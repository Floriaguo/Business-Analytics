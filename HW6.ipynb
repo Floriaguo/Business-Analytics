{
 "cells": [
  {
   "cell_type": "code",
   "execution_count": 18,
   "id": "6541fd30-9704-4ef0-9e3b-eb08efedb4a2",
   "metadata": {
    "tags": []
   },
   "outputs": [],
   "source": [
    "import seaborn as sns\n",
    "import pandas as pd\n",
    "import statsmodels.api as sm"
   ]
  },
  {
   "cell_type": "code",
   "execution_count": 19,
   "id": "ec57105b-4e29-432f-bbda-0aee825a8630",
   "metadata": {
    "tags": []
   },
   "outputs": [],
   "source": [
    "# Load the dataset\n",
    "mpg = sns.load_dataset('mpg')"
   ]
  },
  {
   "cell_type": "code",
   "execution_count": 20,
   "id": "66f52d7f-2589-4343-8f11-ad6e356d57a1",
   "metadata": {
    "tags": []
   },
   "outputs": [],
   "source": [
    "# Drop rows with missing values\n",
    "mpg_cleaned = mpg.dropna()"
   ]
  },
  {
   "cell_type": "code",
   "execution_count": 21,
   "id": "9e8e141b-b5b0-405b-aaa8-ffb933cb8693",
   "metadata": {
    "tags": []
   },
   "outputs": [],
   "source": [
    "# Create the OLS regression model\n",
    "independent_vars = ['cylinders', 'displacement', 'horsepower', 'weight', 'acceleration', 'model_year']\n",
    "X = mpg_cleaned[independent_vars]\n",
    "X = sm.add_constant(X)  # Add a constant term for the intercept\n",
    "y = mpg_cleaned['mpg']\n",
    "\n",
    "model = sm.OLS(y, X).fit()"
   ]
  },
  {
   "cell_type": "code",
   "execution_count": 22,
   "id": "52bd29e5-7aa3-4651-864b-33b236b705ac",
   "metadata": {
    "tags": []
   },
   "outputs": [
    {
     "name": "stdout",
     "output_type": "stream",
     "text": [
      "                            OLS Regression Results                            \n",
      "==============================================================================\n",
      "Dep. Variable:                    mpg   R-squared:                       0.809\n",
      "Model:                            OLS   Adj. R-squared:                  0.806\n",
      "Method:                 Least Squares   F-statistic:                     272.2\n",
      "Date:                Thu, 12 Oct 2023   Prob (F-statistic):          3.79e-135\n",
      "Time:                        22:29:49   Log-Likelihood:                -1036.5\n",
      "No. Observations:                 392   AIC:                             2087.\n",
      "Df Residuals:                     385   BIC:                             2115.\n",
      "Df Model:                           6                                         \n",
      "Covariance Type:            nonrobust                                         \n",
      "================================================================================\n",
      "                   coef    std err          t      P>|t|      [0.025      0.975]\n",
      "--------------------------------------------------------------------------------\n",
      "const          -14.5353      4.764     -3.051      0.002     -23.902      -5.169\n",
      "cylinders       -0.3299      0.332     -0.993      0.321      -0.983       0.323\n",
      "displacement     0.0077      0.007      1.044      0.297      -0.007       0.022\n",
      "horsepower      -0.0004      0.014     -0.028      0.977      -0.028       0.027\n",
      "weight          -0.0068      0.001    -10.141      0.000      -0.008      -0.005\n",
      "acceleration     0.0853      0.102      0.836      0.404      -0.115       0.286\n",
      "model_year       0.7534      0.053     14.318      0.000       0.650       0.857\n",
      "==============================================================================\n",
      "Omnibus:                       37.865   Durbin-Watson:                   1.232\n",
      "Prob(Omnibus):                  0.000   Jarque-Bera (JB):               60.248\n",
      "Skew:                           0.630   Prob(JB):                     8.26e-14\n",
      "Kurtosis:                       4.449   Cond. No.                     8.53e+04\n",
      "==============================================================================\n",
      "\n",
      "Notes:\n",
      "[1] Standard Errors assume that the covariance matrix of the errors is correctly specified.\n",
      "[2] The condition number is large, 8.53e+04. This might indicate that there are\n",
      "strong multicollinearity or other numerical problems.\n"
     ]
    }
   ],
   "source": [
    "# Print the model summary\n",
    "print(model.summary())"
   ]
  },
  {
   "cell_type": "code",
   "execution_count": 23,
   "id": "c3cbd1eb-adee-4e5c-9e3a-1f002de70bc3",
   "metadata": {
    "tags": []
   },
   "outputs": [
    {
     "name": "stdout",
     "output_type": "stream",
     "text": [
      "F-statistic p-value: 3.792336100722869e-135\n",
      "Intercept p-value: 0.0024377410838650115\n",
      "Cylinders p-value: 0.32121686784162057\n"
     ]
    }
   ],
   "source": [
    "# Extract the F-statistic and its p-value\n",
    "f_statistic = model.fvalue\n",
    "f_p_value = model.f_pvalue\n",
    "\n",
    "# Extract the p-value for the intercept and 'cylinders'\n",
    "intercept_p_value = model.pvalues['const']\n",
    "cylinders_p_value = model.pvalues['cylinders']\n",
    "\n",
    "# Check the statements\n",
    "print(f\"F-statistic p-value: {f_p_value}\")\n",
    "print(f\"Intercept p-value: {intercept_p_value}\")\n",
    "print(f\"Cylinders p-value: {cylinders_p_value}\")"
   ]
  },
  {
   "cell_type": "code",
   "execution_count": 25,
   "id": "1a726eef-a1cc-4d3a-a773-2bf8d3a5ec63",
   "metadata": {
    "tags": []
   },
   "outputs": [
    {
     "data": {
      "text/plain": [
       "3.4352440033999767"
      ]
     },
     "execution_count": 25,
     "metadata": {},
     "output_type": "execute_result"
    }
   ],
   "source": [
    "# Get the residuals and degrees of freedom for residuals\n",
    "residuals = model.resid\n",
    "dof_residuals = model.df_resid\n",
    "\n",
    "# Calculate the standard error of regression\n",
    "std_error_regression = (sum(residuals ** 2) / dof_residuals) ** 0.5\n",
    "std_error_regression"
   ]
  },
  {
   "cell_type": "code",
   "execution_count": null,
   "id": "7a8d3031-9c78-452b-bd75-7a3d3f781b5b",
   "metadata": {},
   "outputs": [],
   "source": [
    "# \"model.scale\" gives you the estimate of the variance of errors"
   ]
  },
  {
   "cell_type": "code",
   "execution_count": 36,
   "id": "0fdf6d09-8e33-4af6-a7f3-869f1954b7b0",
   "metadata": {
    "tags": []
   },
   "outputs": [
    {
     "name": "stdout",
     "output_type": "stream",
     "text": [
      "Standard Error of Regression: 3.435244003399977\n"
     ]
    }
   ],
   "source": [
    "# Extract the standard error of the regression\n",
    "import numpy as np\n",
    "std_error_regression = np.sqrt(model.scale)\n",
    "\n",
    "print(f\"Standard Error of Regression: {std_error_regression}\")"
   ]
  },
  {
   "cell_type": "code",
   "execution_count": 27,
   "id": "e4eba9c7-2f7f-4a1f-9c0d-fa6020fb465a",
   "metadata": {
    "tags": []
   },
   "outputs": [
    {
     "name": "stdout",
     "output_type": "stream",
     "text": [
      "Number of variables in the Lasso model: 4\n"
     ]
    }
   ],
   "source": [
    "import statsmodels.api as sm\n",
    "\n",
    "# Create the Lasso regression model\n",
    "lasso_model = sm.OLS(y, X).fit_regularized(alpha=1, L1_wt=1)\n",
    "\n",
    "# Extract the coefficients\n",
    "coefficients = lasso_model.params\n",
    "\n",
    "# Count the number of non-zero coefficients\n",
    "num_variables_in_model = (coefficients != 0).sum()\n",
    "\n",
    "print(f\"Number of variables in the Lasso model: {num_variables_in_model}\")\n"
   ]
  },
  {
   "cell_type": "code",
   "execution_count": 28,
   "id": "c3c08fd1-6bf3-4917-8c20-7c60d51538b3",
   "metadata": {
    "tags": []
   },
   "outputs": [],
   "source": [
    "data = pd.read_csv('shared/framingham.csv')\n",
    "# Check for missing values\n",
    "data.dropna(inplace=True)\n",
    "\n",
    "from sklearn.model_selection import train_test_split\n",
    "# Split the data into features (X) and the target variable (y)\n",
    "X = data.drop('TenYearCHD', axis=1)\n",
    "y = data['TenYearCHD']\n",
    "\n",
    "# Perform the train-test split with a 75%/25% ratio\n",
    "X_train, X_test, y_train, y_test = train_test_split(X, y, test_size=0.25, random_state=1)\n"
   ]
  },
  {
   "cell_type": "code",
   "execution_count": 29,
   "id": "7df63dd2-d0c0-48f2-bb14-3088a95cf102",
   "metadata": {
    "tags": []
   },
   "outputs": [],
   "source": [
    "# Add a constant for an intercept term\n",
    "import statsmodels.api as sm\n",
    "\n",
    "X_train = sm.add_constant(X_train)\n",
    "X_test = sm.add_constant(X_test)"
   ]
  },
  {
   "cell_type": "code",
   "execution_count": 30,
   "id": "900c1887-1cbb-4267-bd0a-b14a1ecc68ab",
   "metadata": {
    "tags": []
   },
   "outputs": [],
   "source": [
    "# Standard scale the features\n",
    "from sklearn.preprocessing import StandardScaler\n",
    "\n",
    "scaler = StandardScaler()\n",
    "X_train = scaler.fit_transform(X_train)\n",
    "X_test = scaler.transform(X_test)"
   ]
  },
  {
   "cell_type": "code",
   "execution_count": 31,
   "id": "5cf33748-58bb-447e-b044-f806289a5f4b",
   "metadata": {
    "tags": []
   },
   "outputs": [
    {
     "data": {
      "text/html": [
       "<style>#sk-container-id-2 {color: black;}#sk-container-id-2 pre{padding: 0;}#sk-container-id-2 div.sk-toggleable {background-color: white;}#sk-container-id-2 label.sk-toggleable__label {cursor: pointer;display: block;width: 100%;margin-bottom: 0;padding: 0.3em;box-sizing: border-box;text-align: center;}#sk-container-id-2 label.sk-toggleable__label-arrow:before {content: \"▸\";float: left;margin-right: 0.25em;color: #696969;}#sk-container-id-2 label.sk-toggleable__label-arrow:hover:before {color: black;}#sk-container-id-2 div.sk-estimator:hover label.sk-toggleable__label-arrow:before {color: black;}#sk-container-id-2 div.sk-toggleable__content {max-height: 0;max-width: 0;overflow: hidden;text-align: left;background-color: #f0f8ff;}#sk-container-id-2 div.sk-toggleable__content pre {margin: 0.2em;color: black;border-radius: 0.25em;background-color: #f0f8ff;}#sk-container-id-2 input.sk-toggleable__control:checked~div.sk-toggleable__content {max-height: 200px;max-width: 100%;overflow: auto;}#sk-container-id-2 input.sk-toggleable__control:checked~label.sk-toggleable__label-arrow:before {content: \"▾\";}#sk-container-id-2 div.sk-estimator input.sk-toggleable__control:checked~label.sk-toggleable__label {background-color: #d4ebff;}#sk-container-id-2 div.sk-label input.sk-toggleable__control:checked~label.sk-toggleable__label {background-color: #d4ebff;}#sk-container-id-2 input.sk-hidden--visually {border: 0;clip: rect(1px 1px 1px 1px);clip: rect(1px, 1px, 1px, 1px);height: 1px;margin: -1px;overflow: hidden;padding: 0;position: absolute;width: 1px;}#sk-container-id-2 div.sk-estimator {font-family: monospace;background-color: #f0f8ff;border: 1px dotted black;border-radius: 0.25em;box-sizing: border-box;margin-bottom: 0.5em;}#sk-container-id-2 div.sk-estimator:hover {background-color: #d4ebff;}#sk-container-id-2 div.sk-parallel-item::after {content: \"\";width: 100%;border-bottom: 1px solid gray;flex-grow: 1;}#sk-container-id-2 div.sk-label:hover label.sk-toggleable__label {background-color: #d4ebff;}#sk-container-id-2 div.sk-serial::before {content: \"\";position: absolute;border-left: 1px solid gray;box-sizing: border-box;top: 0;bottom: 0;left: 50%;z-index: 0;}#sk-container-id-2 div.sk-serial {display: flex;flex-direction: column;align-items: center;background-color: white;padding-right: 0.2em;padding-left: 0.2em;position: relative;}#sk-container-id-2 div.sk-item {position: relative;z-index: 1;}#sk-container-id-2 div.sk-parallel {display: flex;align-items: stretch;justify-content: center;background-color: white;position: relative;}#sk-container-id-2 div.sk-item::before, #sk-container-id-2 div.sk-parallel-item::before {content: \"\";position: absolute;border-left: 1px solid gray;box-sizing: border-box;top: 0;bottom: 0;left: 50%;z-index: -1;}#sk-container-id-2 div.sk-parallel-item {display: flex;flex-direction: column;z-index: 1;position: relative;background-color: white;}#sk-container-id-2 div.sk-parallel-item:first-child::after {align-self: flex-end;width: 50%;}#sk-container-id-2 div.sk-parallel-item:last-child::after {align-self: flex-start;width: 50%;}#sk-container-id-2 div.sk-parallel-item:only-child::after {width: 0;}#sk-container-id-2 div.sk-dashed-wrapped {border: 1px dashed gray;margin: 0 0.4em 0.5em 0.4em;box-sizing: border-box;padding-bottom: 0.4em;background-color: white;}#sk-container-id-2 div.sk-label label {font-family: monospace;font-weight: bold;display: inline-block;line-height: 1.2em;}#sk-container-id-2 div.sk-label-container {text-align: center;}#sk-container-id-2 div.sk-container {/* jupyter's `normalize.less` sets `[hidden] { display: none; }` but bootstrap.min.css set `[hidden] { display: none !important; }` so we also need the `!important` here to be able to override the default hidden behavior on the sphinx rendered scikit-learn.org. See: https://github.com/scikit-learn/scikit-learn/issues/21755 */display: inline-block !important;position: relative;}#sk-container-id-2 div.sk-text-repr-fallback {display: none;}</style><div id=\"sk-container-id-2\" class=\"sk-top-container\"><div class=\"sk-text-repr-fallback\"><pre>LogisticRegression()</pre><b>In a Jupyter environment, please rerun this cell to show the HTML representation or trust the notebook. <br />On GitHub, the HTML representation is unable to render, please try loading this page with nbviewer.org.</b></div><div class=\"sk-container\" hidden><div class=\"sk-item\"><div class=\"sk-estimator sk-toggleable\"><input class=\"sk-toggleable__control sk-hidden--visually\" id=\"sk-estimator-id-2\" type=\"checkbox\" checked><label for=\"sk-estimator-id-2\" class=\"sk-toggleable__label sk-toggleable__label-arrow\">LogisticRegression</label><div class=\"sk-toggleable__content\"><pre>LogisticRegression()</pre></div></div></div></div></div>"
      ],
      "text/plain": [
       "LogisticRegression()"
      ]
     },
     "execution_count": 31,
     "metadata": {},
     "output_type": "execute_result"
    }
   ],
   "source": [
    "# Create and Fit the Logistic Regression Model\n",
    "from sklearn.linear_model import LogisticRegression\n",
    "\n",
    "# Create a logistic regression model\n",
    "logistic_model = LogisticRegression()\n",
    "\n",
    "# Fit the model to the training data\n",
    "logistic_model.fit(X_train, y_train)"
   ]
  },
  {
   "cell_type": "code",
   "execution_count": 32,
   "id": "266efb28-7160-4604-8354-0886ae7f276c",
   "metadata": {
    "tags": []
   },
   "outputs": [
    {
     "name": "stdout",
     "output_type": "stream",
     "text": [
      "Accuracy on the test set: 0.85558\n"
     ]
    }
   ],
   "source": [
    "# Calculate Accuracy on the Test Set\n",
    "\n",
    "# Predict the target variable on the test set\n",
    "y_pred = logistic_model.predict(X_test)\n",
    "\n",
    "# Calculate accuracy using a threshold of 0.5\n",
    "from sklearn.metrics import accuracy_score\n",
    "\n",
    "accuracy = accuracy_score(y_test, y_pred)\n",
    "\n",
    "print(f\"Accuracy on the test set: {accuracy:.5f}\") \n",
    "# {accuracy:.2f} 是一个用于放置浮点数（准确率）的占位符，:.2f 指定了数字的显示格式。在这里，:.2f 表示以两位小数的方式显示数字"
   ]
  }
 ],
 "metadata": {
  "kernelspec": {
   "display_name": "Python [conda env:mggy8413]",
   "language": "python",
   "name": "conda-env-mggy8413-py"
  },
  "language_info": {
   "codemirror_mode": {
    "name": "ipython",
    "version": 3
   },
   "file_extension": ".py",
   "mimetype": "text/x-python",
   "name": "python",
   "nbconvert_exporter": "python",
   "pygments_lexer": "ipython3",
   "version": "3.10.12"
  }
 },
 "nbformat": 4,
 "nbformat_minor": 5
}
