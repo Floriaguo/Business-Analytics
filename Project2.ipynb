{
 "cells": [
  {
   "cell_type": "markdown",
   "id": "b9e55204-4bfc-4fe9-9858-2f1df60184fa",
   "metadata": {},
   "source": [
    "## Predictive Modeling: CFPB Consumer Complaints Modeling"
   ]
  },
  {
   "cell_type": "markdown",
   "id": "a7a3eeea-99e0-4a17-a4ee-d13fea20c1d6",
   "metadata": {},
   "source": [
    "#### The goal of the project is to create a predictive model that then predicts which financial services complaints filed with the U.S. Consumer Financial Protection Bureau (CFPB) will ultimately be disputed. The model can help banks identify disputed complaints so that they can conduct additional prudential review and other dispute resolution costs in advance."
   ]
  },
  {
   "cell_type": "markdown",
   "id": "9b4c11bb-36fc-4485-ad4b-8161c761ffc7",
   "metadata": {},
   "source": [
    "##### 1. In the test set (not the entire dataset), what proportion of consumers raised a dispute?"
   ]
  },
  {
   "cell_type": "code",
   "execution_count": 1,
   "id": "068c4fc4-8a56-441c-909f-a27fce365c07",
   "metadata": {
    "tags": []
   },
   "outputs": [],
   "source": [
    "import pandas as pd\n",
    "from sklearn.model_selection import train_test_split\n",
    "from sklearn.preprocessing import LabelEncoder\n",
    "from sklearn.preprocessing import OneHotEncoder"
   ]
  },
  {
   "cell_type": "code",
   "execution_count": 2,
   "id": "104cdd86-c316-4f7b-9b51-8f33be9943f6",
   "metadata": {
    "tags": []
   },
   "outputs": [
    {
     "data": {
      "text/html": [
       "<div>\n",
       "<style scoped>\n",
       "    .dataframe tbody tr th:only-of-type {\n",
       "        vertical-align: middle;\n",
       "    }\n",
       "\n",
       "    .dataframe tbody tr th {\n",
       "        vertical-align: top;\n",
       "    }\n",
       "\n",
       "    .dataframe thead th {\n",
       "        text-align: right;\n",
       "    }\n",
       "</style>\n",
       "<table border=\"1\" class=\"dataframe\">\n",
       "  <thead>\n",
       "    <tr style=\"text-align: right;\">\n",
       "      <th></th>\n",
       "      <th>Date received</th>\n",
       "      <th>Product</th>\n",
       "      <th>Sub-product</th>\n",
       "      <th>Issue</th>\n",
       "      <th>Sub-issue</th>\n",
       "      <th>Consumer complaint narrative</th>\n",
       "      <th>Company public response</th>\n",
       "      <th>Company</th>\n",
       "      <th>State</th>\n",
       "      <th>ZIP code</th>\n",
       "      <th>Tags</th>\n",
       "      <th>Consumer consent provided?</th>\n",
       "      <th>Submitted via</th>\n",
       "      <th>Date sent to company</th>\n",
       "      <th>Company response to consumer</th>\n",
       "      <th>Timely response?</th>\n",
       "      <th>Consumer disputed?</th>\n",
       "      <th>Complaint ID</th>\n",
       "    </tr>\n",
       "  </thead>\n",
       "  <tbody>\n",
       "    <tr>\n",
       "      <th>0</th>\n",
       "      <td>2016-10-26</td>\n",
       "      <td>Money transfers</td>\n",
       "      <td>International money transfer</td>\n",
       "      <td>Other transaction issues</td>\n",
       "      <td>missing</td>\n",
       "      <td>To whom it concerns, I would like to file a fo...</td>\n",
       "      <td>Company has responded to the consumer and the ...</td>\n",
       "      <td>CITIBANK, N.A.</td>\n",
       "      <td>missing</td>\n",
       "      <td>missing</td>\n",
       "      <td>missing</td>\n",
       "      <td>Consent provided</td>\n",
       "      <td>Web</td>\n",
       "      <td>2016-10-29</td>\n",
       "      <td>Closed with explanation</td>\n",
       "      <td>Yes</td>\n",
       "      <td>No</td>\n",
       "      <td>2180490</td>\n",
       "    </tr>\n",
       "    <tr>\n",
       "      <th>1</th>\n",
       "      <td>2015-03-27</td>\n",
       "      <td>Bank account or service</td>\n",
       "      <td>Other bank product/service</td>\n",
       "      <td>Account opening, closing, or management</td>\n",
       "      <td>missing</td>\n",
       "      <td>My name is XXXX XXXX XXXX and huband name is X...</td>\n",
       "      <td>Company chooses not to provide a public response</td>\n",
       "      <td>CITIBANK, N.A.</td>\n",
       "      <td>PA</td>\n",
       "      <td>151XX</td>\n",
       "      <td>Older American</td>\n",
       "      <td>Consent provided</td>\n",
       "      <td>Web</td>\n",
       "      <td>2015-03-27</td>\n",
       "      <td>Closed with explanation</td>\n",
       "      <td>Yes</td>\n",
       "      <td>No</td>\n",
       "      <td>1305453</td>\n",
       "    </tr>\n",
       "    <tr>\n",
       "      <th>2</th>\n",
       "      <td>2015-04-20</td>\n",
       "      <td>Bank account or service</td>\n",
       "      <td>Other bank product/service</td>\n",
       "      <td>Making/receiving payments, sending money</td>\n",
       "      <td>missing</td>\n",
       "      <td>XXXX 2015 : I called to make a payment on XXXX...</td>\n",
       "      <td>Company chooses not to provide a public response</td>\n",
       "      <td>U.S. BANCORP</td>\n",
       "      <td>PA</td>\n",
       "      <td>152XX</td>\n",
       "      <td>missing</td>\n",
       "      <td>Consent provided</td>\n",
       "      <td>Web</td>\n",
       "      <td>2015-04-22</td>\n",
       "      <td>Closed with monetary relief</td>\n",
       "      <td>Yes</td>\n",
       "      <td>No</td>\n",
       "      <td>1337613</td>\n",
       "    </tr>\n",
       "    <tr>\n",
       "      <th>3</th>\n",
       "      <td>2013-04-29</td>\n",
       "      <td>Mortgage</td>\n",
       "      <td>Conventional fixed mortgage</td>\n",
       "      <td>Application, originator, mortgage broker</td>\n",
       "      <td>missing</td>\n",
       "      <td>missing</td>\n",
       "      <td>missing</td>\n",
       "      <td>JPMORGAN CHASE &amp; CO.</td>\n",
       "      <td>VA</td>\n",
       "      <td>22406</td>\n",
       "      <td>Servicemember</td>\n",
       "      <td>missing</td>\n",
       "      <td>Phone</td>\n",
       "      <td>2013-04-30</td>\n",
       "      <td>Closed with explanation</td>\n",
       "      <td>Yes</td>\n",
       "      <td>Yes</td>\n",
       "      <td>393900</td>\n",
       "    </tr>\n",
       "    <tr>\n",
       "      <th>4</th>\n",
       "      <td>2013-05-29</td>\n",
       "      <td>Mortgage</td>\n",
       "      <td>Other mortgage</td>\n",
       "      <td>Loan modification,collection,foreclosure</td>\n",
       "      <td>missing</td>\n",
       "      <td>missing</td>\n",
       "      <td>missing</td>\n",
       "      <td>BANK OF AMERICA, NATIONAL ASSOCIATION</td>\n",
       "      <td>GA</td>\n",
       "      <td>30044</td>\n",
       "      <td>missing</td>\n",
       "      <td>missing</td>\n",
       "      <td>Referral</td>\n",
       "      <td>2013-05-31</td>\n",
       "      <td>Closed with explanation</td>\n",
       "      <td>Yes</td>\n",
       "      <td>No</td>\n",
       "      <td>418647</td>\n",
       "    </tr>\n",
       "    <tr>\n",
       "      <th>...</th>\n",
       "      <td>...</td>\n",
       "      <td>...</td>\n",
       "      <td>...</td>\n",
       "      <td>...</td>\n",
       "      <td>...</td>\n",
       "      <td>...</td>\n",
       "      <td>...</td>\n",
       "      <td>...</td>\n",
       "      <td>...</td>\n",
       "      <td>...</td>\n",
       "      <td>...</td>\n",
       "      <td>...</td>\n",
       "      <td>...</td>\n",
       "      <td>...</td>\n",
       "      <td>...</td>\n",
       "      <td>...</td>\n",
       "      <td>...</td>\n",
       "      <td>...</td>\n",
       "    </tr>\n",
       "    <tr>\n",
       "      <th>207255</th>\n",
       "      <td>2015-05-24</td>\n",
       "      <td>Debt collection</td>\n",
       "      <td>Credit card</td>\n",
       "      <td>Taking/threatening an illegal action</td>\n",
       "      <td>Sued w/o proper notification of suit</td>\n",
       "      <td>missing</td>\n",
       "      <td>missing</td>\n",
       "      <td>JPMORGAN CHASE &amp; CO.</td>\n",
       "      <td>FL</td>\n",
       "      <td>33133</td>\n",
       "      <td>missing</td>\n",
       "      <td>Consent not provided</td>\n",
       "      <td>Web</td>\n",
       "      <td>2015-05-24</td>\n",
       "      <td>Closed with explanation</td>\n",
       "      <td>Yes</td>\n",
       "      <td>No</td>\n",
       "      <td>1390395</td>\n",
       "    </tr>\n",
       "    <tr>\n",
       "      <th>207256</th>\n",
       "      <td>2012-01-10</td>\n",
       "      <td>Mortgage</td>\n",
       "      <td>Conventional fixed mortgage</td>\n",
       "      <td>Loan modification,collection,foreclosure</td>\n",
       "      <td>missing</td>\n",
       "      <td>missing</td>\n",
       "      <td>missing</td>\n",
       "      <td>JPMORGAN CHASE &amp; CO.</td>\n",
       "      <td>NY</td>\n",
       "      <td>10312</td>\n",
       "      <td>missing</td>\n",
       "      <td>missing</td>\n",
       "      <td>Referral</td>\n",
       "      <td>2012-01-11</td>\n",
       "      <td>Closed without relief</td>\n",
       "      <td>Yes</td>\n",
       "      <td>Yes</td>\n",
       "      <td>12192</td>\n",
       "    </tr>\n",
       "    <tr>\n",
       "      <th>207257</th>\n",
       "      <td>2012-07-17</td>\n",
       "      <td>Student loan</td>\n",
       "      <td>Non-federal student loan</td>\n",
       "      <td>Repaying your loan</td>\n",
       "      <td>missing</td>\n",
       "      <td>missing</td>\n",
       "      <td>missing</td>\n",
       "      <td>BANK OF AMERICA, NATIONAL ASSOCIATION</td>\n",
       "      <td>NH</td>\n",
       "      <td>032XX</td>\n",
       "      <td>missing</td>\n",
       "      <td>missing</td>\n",
       "      <td>Web</td>\n",
       "      <td>2012-07-18</td>\n",
       "      <td>Closed with explanation</td>\n",
       "      <td>Yes</td>\n",
       "      <td>No</td>\n",
       "      <td>118351</td>\n",
       "    </tr>\n",
       "    <tr>\n",
       "      <th>207258</th>\n",
       "      <td>2016-09-29</td>\n",
       "      <td>Bank account or service</td>\n",
       "      <td>Checking account</td>\n",
       "      <td>Account opening, closing, or management</td>\n",
       "      <td>missing</td>\n",
       "      <td>Near the end of XXXX 2016 I opened a Citigold ...</td>\n",
       "      <td>Company has responded to the consumer and the ...</td>\n",
       "      <td>CITIBANK, N.A.</td>\n",
       "      <td>CA</td>\n",
       "      <td>900XX</td>\n",
       "      <td>missing</td>\n",
       "      <td>Consent provided</td>\n",
       "      <td>Web</td>\n",
       "      <td>2016-09-29</td>\n",
       "      <td>Closed with non-monetary relief</td>\n",
       "      <td>Yes</td>\n",
       "      <td>No</td>\n",
       "      <td>2138969</td>\n",
       "    </tr>\n",
       "    <tr>\n",
       "      <th>207259</th>\n",
       "      <td>2015-04-29</td>\n",
       "      <td>Mortgage</td>\n",
       "      <td>Conventional fixed mortgage</td>\n",
       "      <td>Loan modification,collection,foreclosure</td>\n",
       "      <td>missing</td>\n",
       "      <td>My father died in XX/XX/XXXX. Left me his only...</td>\n",
       "      <td>missing</td>\n",
       "      <td>CITIBANK, N.A.</td>\n",
       "      <td>OK</td>\n",
       "      <td>740XX</td>\n",
       "      <td>missing</td>\n",
       "      <td>Consent provided</td>\n",
       "      <td>Web</td>\n",
       "      <td>2015-04-29</td>\n",
       "      <td>Closed with explanation</td>\n",
       "      <td>Yes</td>\n",
       "      <td>No</td>\n",
       "      <td>1352738</td>\n",
       "    </tr>\n",
       "  </tbody>\n",
       "</table>\n",
       "<p>207260 rows × 18 columns</p>\n",
       "</div>"
      ],
      "text/plain": [
       "       Date received                  Product                   Sub-product  \\\n",
       "0         2016-10-26          Money transfers  International money transfer   \n",
       "1         2015-03-27  Bank account or service    Other bank product/service   \n",
       "2         2015-04-20  Bank account or service    Other bank product/service   \n",
       "3         2013-04-29                 Mortgage   Conventional fixed mortgage   \n",
       "4         2013-05-29                 Mortgage                Other mortgage   \n",
       "...              ...                      ...                           ...   \n",
       "207255    2015-05-24          Debt collection                   Credit card   \n",
       "207256    2012-01-10                 Mortgage   Conventional fixed mortgage   \n",
       "207257    2012-07-17             Student loan      Non-federal student loan   \n",
       "207258    2016-09-29  Bank account or service              Checking account   \n",
       "207259    2015-04-29                 Mortgage   Conventional fixed mortgage   \n",
       "\n",
       "                                           Issue  \\\n",
       "0                       Other transaction issues   \n",
       "1        Account opening, closing, or management   \n",
       "2       Making/receiving payments, sending money   \n",
       "3       Application, originator, mortgage broker   \n",
       "4       Loan modification,collection,foreclosure   \n",
       "...                                          ...   \n",
       "207255      Taking/threatening an illegal action   \n",
       "207256  Loan modification,collection,foreclosure   \n",
       "207257                        Repaying your loan   \n",
       "207258   Account opening, closing, or management   \n",
       "207259  Loan modification,collection,foreclosure   \n",
       "\n",
       "                                   Sub-issue  \\\n",
       "0                                    missing   \n",
       "1                                    missing   \n",
       "2                                    missing   \n",
       "3                                    missing   \n",
       "4                                    missing   \n",
       "...                                      ...   \n",
       "207255  Sued w/o proper notification of suit   \n",
       "207256                               missing   \n",
       "207257                               missing   \n",
       "207258                               missing   \n",
       "207259                               missing   \n",
       "\n",
       "                             Consumer complaint narrative  \\\n",
       "0       To whom it concerns, I would like to file a fo...   \n",
       "1       My name is XXXX XXXX XXXX and huband name is X...   \n",
       "2       XXXX 2015 : I called to make a payment on XXXX...   \n",
       "3                                                 missing   \n",
       "4                                                 missing   \n",
       "...                                                   ...   \n",
       "207255                                            missing   \n",
       "207256                                            missing   \n",
       "207257                                            missing   \n",
       "207258  Near the end of XXXX 2016 I opened a Citigold ...   \n",
       "207259  My father died in XX/XX/XXXX. Left me his only...   \n",
       "\n",
       "                                  Company public response  \\\n",
       "0       Company has responded to the consumer and the ...   \n",
       "1        Company chooses not to provide a public response   \n",
       "2        Company chooses not to provide a public response   \n",
       "3                                                 missing   \n",
       "4                                                 missing   \n",
       "...                                                   ...   \n",
       "207255                                            missing   \n",
       "207256                                            missing   \n",
       "207257                                            missing   \n",
       "207258  Company has responded to the consumer and the ...   \n",
       "207259                                            missing   \n",
       "\n",
       "                                      Company    State ZIP code  \\\n",
       "0                              CITIBANK, N.A.  missing  missing   \n",
       "1                              CITIBANK, N.A.       PA    151XX   \n",
       "2                                U.S. BANCORP       PA    152XX   \n",
       "3                        JPMORGAN CHASE & CO.       VA    22406   \n",
       "4       BANK OF AMERICA, NATIONAL ASSOCIATION       GA    30044   \n",
       "...                                       ...      ...      ...   \n",
       "207255                   JPMORGAN CHASE & CO.       FL    33133   \n",
       "207256                   JPMORGAN CHASE & CO.       NY    10312   \n",
       "207257  BANK OF AMERICA, NATIONAL ASSOCIATION       NH    032XX   \n",
       "207258                         CITIBANK, N.A.       CA    900XX   \n",
       "207259                         CITIBANK, N.A.       OK    740XX   \n",
       "\n",
       "                  Tags Consumer consent provided? Submitted via  \\\n",
       "0              missing           Consent provided           Web   \n",
       "1       Older American           Consent provided           Web   \n",
       "2              missing           Consent provided           Web   \n",
       "3        Servicemember                    missing         Phone   \n",
       "4              missing                    missing      Referral   \n",
       "...                ...                        ...           ...   \n",
       "207255         missing       Consent not provided           Web   \n",
       "207256         missing                    missing      Referral   \n",
       "207257         missing                    missing           Web   \n",
       "207258         missing           Consent provided           Web   \n",
       "207259         missing           Consent provided           Web   \n",
       "\n",
       "       Date sent to company     Company response to consumer Timely response?  \\\n",
       "0                2016-10-29          Closed with explanation              Yes   \n",
       "1                2015-03-27          Closed with explanation              Yes   \n",
       "2                2015-04-22      Closed with monetary relief              Yes   \n",
       "3                2013-04-30          Closed with explanation              Yes   \n",
       "4                2013-05-31          Closed with explanation              Yes   \n",
       "...                     ...                              ...              ...   \n",
       "207255           2015-05-24          Closed with explanation              Yes   \n",
       "207256           2012-01-11            Closed without relief              Yes   \n",
       "207257           2012-07-18          Closed with explanation              Yes   \n",
       "207258           2016-09-29  Closed with non-monetary relief              Yes   \n",
       "207259           2015-04-29          Closed with explanation              Yes   \n",
       "\n",
       "       Consumer disputed?  Complaint ID  \n",
       "0                      No       2180490  \n",
       "1                      No       1305453  \n",
       "2                      No       1337613  \n",
       "3                     Yes        393900  \n",
       "4                      No        418647  \n",
       "...                   ...           ...  \n",
       "207255                 No       1390395  \n",
       "207256                Yes         12192  \n",
       "207257                 No        118351  \n",
       "207258                 No       2138969  \n",
       "207259                 No       1352738  \n",
       "\n",
       "[207260 rows x 18 columns]"
      ]
     },
     "execution_count": 2,
     "metadata": {},
     "output_type": "execute_result"
    }
   ],
   "source": [
    "df = pd.read_csv('shared/complaints_25Nov21.csv')\n",
    "df = df.fillna('missing')\n",
    "df"
   ]
  },
  {
   "cell_type": "code",
   "execution_count": 3,
   "id": "1528a22e-6a24-4556-ab9c-e800735d02d6",
   "metadata": {
    "tags": []
   },
   "outputs": [
    {
     "data": {
      "text/html": [
       "<div>\n",
       "<style scoped>\n",
       "    .dataframe tbody tr th:only-of-type {\n",
       "        vertical-align: middle;\n",
       "    }\n",
       "\n",
       "    .dataframe tbody tr th {\n",
       "        vertical-align: top;\n",
       "    }\n",
       "\n",
       "    .dataframe thead th {\n",
       "        text-align: right;\n",
       "    }\n",
       "</style>\n",
       "<table border=\"1\" class=\"dataframe\">\n",
       "  <thead>\n",
       "    <tr style=\"text-align: right;\">\n",
       "      <th></th>\n",
       "      <th>Product</th>\n",
       "      <th>Sub-product</th>\n",
       "      <th>Issue</th>\n",
       "      <th>State</th>\n",
       "      <th>Tags</th>\n",
       "      <th>Submitted via</th>\n",
       "      <th>Company response to consumer</th>\n",
       "      <th>Timely response?</th>\n",
       "    </tr>\n",
       "  </thead>\n",
       "  <tbody>\n",
       "    <tr>\n",
       "      <th>0</th>\n",
       "      <td>Money transfers</td>\n",
       "      <td>International money transfer</td>\n",
       "      <td>Other transaction issues</td>\n",
       "      <td>missing</td>\n",
       "      <td>missing</td>\n",
       "      <td>Web</td>\n",
       "      <td>Closed with explanation</td>\n",
       "      <td>Yes</td>\n",
       "    </tr>\n",
       "    <tr>\n",
       "      <th>1</th>\n",
       "      <td>Bank account or service</td>\n",
       "      <td>Other bank product/service</td>\n",
       "      <td>Account opening, closing, or management</td>\n",
       "      <td>PA</td>\n",
       "      <td>Older American</td>\n",
       "      <td>Web</td>\n",
       "      <td>Closed with explanation</td>\n",
       "      <td>Yes</td>\n",
       "    </tr>\n",
       "    <tr>\n",
       "      <th>2</th>\n",
       "      <td>Bank account or service</td>\n",
       "      <td>Other bank product/service</td>\n",
       "      <td>Making/receiving payments, sending money</td>\n",
       "      <td>PA</td>\n",
       "      <td>missing</td>\n",
       "      <td>Web</td>\n",
       "      <td>Closed with monetary relief</td>\n",
       "      <td>Yes</td>\n",
       "    </tr>\n",
       "    <tr>\n",
       "      <th>3</th>\n",
       "      <td>Mortgage</td>\n",
       "      <td>Conventional fixed mortgage</td>\n",
       "      <td>Application, originator, mortgage broker</td>\n",
       "      <td>VA</td>\n",
       "      <td>Servicemember</td>\n",
       "      <td>Phone</td>\n",
       "      <td>Closed with explanation</td>\n",
       "      <td>Yes</td>\n",
       "    </tr>\n",
       "    <tr>\n",
       "      <th>4</th>\n",
       "      <td>Mortgage</td>\n",
       "      <td>Other mortgage</td>\n",
       "      <td>Loan modification,collection,foreclosure</td>\n",
       "      <td>GA</td>\n",
       "      <td>missing</td>\n",
       "      <td>Referral</td>\n",
       "      <td>Closed with explanation</td>\n",
       "      <td>Yes</td>\n",
       "    </tr>\n",
       "    <tr>\n",
       "      <th>...</th>\n",
       "      <td>...</td>\n",
       "      <td>...</td>\n",
       "      <td>...</td>\n",
       "      <td>...</td>\n",
       "      <td>...</td>\n",
       "      <td>...</td>\n",
       "      <td>...</td>\n",
       "      <td>...</td>\n",
       "    </tr>\n",
       "    <tr>\n",
       "      <th>207255</th>\n",
       "      <td>Debt collection</td>\n",
       "      <td>Credit card</td>\n",
       "      <td>Taking/threatening an illegal action</td>\n",
       "      <td>FL</td>\n",
       "      <td>missing</td>\n",
       "      <td>Web</td>\n",
       "      <td>Closed with explanation</td>\n",
       "      <td>Yes</td>\n",
       "    </tr>\n",
       "    <tr>\n",
       "      <th>207256</th>\n",
       "      <td>Mortgage</td>\n",
       "      <td>Conventional fixed mortgage</td>\n",
       "      <td>Loan modification,collection,foreclosure</td>\n",
       "      <td>NY</td>\n",
       "      <td>missing</td>\n",
       "      <td>Referral</td>\n",
       "      <td>Closed without relief</td>\n",
       "      <td>Yes</td>\n",
       "    </tr>\n",
       "    <tr>\n",
       "      <th>207257</th>\n",
       "      <td>Student loan</td>\n",
       "      <td>Non-federal student loan</td>\n",
       "      <td>Repaying your loan</td>\n",
       "      <td>NH</td>\n",
       "      <td>missing</td>\n",
       "      <td>Web</td>\n",
       "      <td>Closed with explanation</td>\n",
       "      <td>Yes</td>\n",
       "    </tr>\n",
       "    <tr>\n",
       "      <th>207258</th>\n",
       "      <td>Bank account or service</td>\n",
       "      <td>Checking account</td>\n",
       "      <td>Account opening, closing, or management</td>\n",
       "      <td>CA</td>\n",
       "      <td>missing</td>\n",
       "      <td>Web</td>\n",
       "      <td>Closed with non-monetary relief</td>\n",
       "      <td>Yes</td>\n",
       "    </tr>\n",
       "    <tr>\n",
       "      <th>207259</th>\n",
       "      <td>Mortgage</td>\n",
       "      <td>Conventional fixed mortgage</td>\n",
       "      <td>Loan modification,collection,foreclosure</td>\n",
       "      <td>OK</td>\n",
       "      <td>missing</td>\n",
       "      <td>Web</td>\n",
       "      <td>Closed with explanation</td>\n",
       "      <td>Yes</td>\n",
       "    </tr>\n",
       "  </tbody>\n",
       "</table>\n",
       "<p>207260 rows × 8 columns</p>\n",
       "</div>"
      ],
      "text/plain": [
       "                        Product                   Sub-product  \\\n",
       "0               Money transfers  International money transfer   \n",
       "1       Bank account or service    Other bank product/service   \n",
       "2       Bank account or service    Other bank product/service   \n",
       "3                      Mortgage   Conventional fixed mortgage   \n",
       "4                      Mortgage                Other mortgage   \n",
       "...                         ...                           ...   \n",
       "207255          Debt collection                   Credit card   \n",
       "207256                 Mortgage   Conventional fixed mortgage   \n",
       "207257             Student loan      Non-federal student loan   \n",
       "207258  Bank account or service              Checking account   \n",
       "207259                 Mortgage   Conventional fixed mortgage   \n",
       "\n",
       "                                           Issue    State            Tags  \\\n",
       "0                       Other transaction issues  missing         missing   \n",
       "1        Account opening, closing, or management       PA  Older American   \n",
       "2       Making/receiving payments, sending money       PA         missing   \n",
       "3       Application, originator, mortgage broker       VA   Servicemember   \n",
       "4       Loan modification,collection,foreclosure       GA         missing   \n",
       "...                                          ...      ...             ...   \n",
       "207255      Taking/threatening an illegal action       FL         missing   \n",
       "207256  Loan modification,collection,foreclosure       NY         missing   \n",
       "207257                        Repaying your loan       NH         missing   \n",
       "207258   Account opening, closing, or management       CA         missing   \n",
       "207259  Loan modification,collection,foreclosure       OK         missing   \n",
       "\n",
       "       Submitted via     Company response to consumer Timely response?  \n",
       "0                Web          Closed with explanation              Yes  \n",
       "1                Web          Closed with explanation              Yes  \n",
       "2                Web      Closed with monetary relief              Yes  \n",
       "3              Phone          Closed with explanation              Yes  \n",
       "4           Referral          Closed with explanation              Yes  \n",
       "...              ...                              ...              ...  \n",
       "207255           Web          Closed with explanation              Yes  \n",
       "207256      Referral            Closed without relief              Yes  \n",
       "207257           Web          Closed with explanation              Yes  \n",
       "207258           Web  Closed with non-monetary relief              Yes  \n",
       "207259           Web          Closed with explanation              Yes  \n",
       "\n",
       "[207260 rows x 8 columns]"
      ]
     },
     "execution_count": 3,
     "metadata": {},
     "output_type": "execute_result"
    }
   ],
   "source": [
    "# Select the specified columns for the predictors\n",
    "predictor_columns = ['Product', 'Sub-product', 'Issue', 'State', 'Tags', 'Submitted via', 'Company response to consumer', 'Timely response?']\n",
    "X = df[predictor_columns]\n",
    "X"
   ]
  },
  {
   "cell_type": "code",
   "execution_count": 4,
   "id": "371faff6-cc61-4451-91bc-32a2dbb72367",
   "metadata": {
    "tags": []
   },
   "outputs": [],
   "source": [
    "# Set the target variable using 'Consumer disputed?' column and encode it to 0s and 1s\n",
    "y_variable = 'Consumer disputed?'\n",
    "le = LabelEncoder()\n",
    "y = le.fit_transform(df[y_variable])"
   ]
  },
  {
   "cell_type": "code",
   "execution_count": 5,
   "id": "e00a2110-62af-4fa3-b96d-9c527df62605",
   "metadata": {
    "tags": []
   },
   "outputs": [
    {
     "name": "stderr",
     "output_type": "stream",
     "text": [
      "/home/jovyan/.local/lib/python3.10/site-packages/sklearn/preprocessing/_encoders.py:975: FutureWarning: `sparse` was renamed to `sparse_output` in version 1.2 and will be removed in 1.4. `sparse_output` is ignored unless you leave `sparse` to its default value.\n",
      "  warnings.warn(\n"
     ]
    }
   ],
   "source": [
    "encoder = OneHotEncoder(sparse=False)\n",
    "X_encoded = encoder.fit_transform(X)"
   ]
  },
  {
   "cell_type": "code",
   "execution_count": 6,
   "id": "75372d2e-6a2c-49dc-81e8-3b4dc1dcd560",
   "metadata": {
    "tags": []
   },
   "outputs": [],
   "source": [
    "# Split the data into training and testing sets with an 80/20 split\n",
    "X_train, X_test, y_train, y_test = train_test_split(X_encoded, y, test_size=0.2, random_state=123)"
   ]
  },
  {
   "cell_type": "code",
   "execution_count": 7,
   "id": "e9790ec7-aca3-4308-ace5-373fa3844ef0",
   "metadata": {
    "tags": []
   },
   "outputs": [
    {
     "name": "stdout",
     "output_type": "stream",
     "text": [
      "Proportion of consumers who raised a dispute in the test set: 0.215864\n"
     ]
    }
   ],
   "source": [
    "# Calculate the proportion of disputes in the test set\n",
    "proportion_disputed = y_test.mean()\n",
    "print(f\"Proportion of consumers who raised a dispute in the test set: {proportion_disputed:.6f}\")"
   ]
  },
  {
   "cell_type": "markdown",
   "id": "58f9fadb-ac60-458f-89e2-ca3152826f90",
   "metadata": {
    "tags": []
   },
   "source": [
    "##### 2. After the random undersampling, what proportion of consumers in the training dataset raised a dispute?"
   ]
  },
  {
   "cell_type": "code",
   "execution_count": 8,
   "id": "be3b4658-ec21-4c46-bfcb-eb56e3d6fa43",
   "metadata": {
    "tags": []
   },
   "outputs": [],
   "source": [
    "from imblearn.under_sampling import RandomUnderSampler"
   ]
  },
  {
   "cell_type": "code",
   "execution_count": 9,
   "id": "4028ca28-1eed-461f-875e-aa49ad800f0b",
   "metadata": {
    "tags": []
   },
   "outputs": [],
   "source": [
    "# Perform random undersampling on the training data\n",
    "undersampler = RandomUnderSampler(random_state=123)\n",
    "X_train_under, y_train_under = undersampler.fit_resample(X_train, y_train)\n"
   ]
  },
  {
   "cell_type": "code",
   "execution_count": 10,
   "id": "8a67babe-bf15-4960-8cce-07b6c346f3d1",
   "metadata": {
    "tags": []
   },
   "outputs": [
    {
     "name": "stdout",
     "output_type": "stream",
     "text": [
      "Proportion of consumers who raised a dispute in the undersampled training set: 0.500000\n"
     ]
    }
   ],
   "source": [
    "# Calculate the proportion of disputes in the undersampled training set\n",
    "proportion_disputed_under = y_train_under.mean()\n",
    "\n",
    "print(f\"Proportion of consumers who raised a dispute in the undersampled training set: {proportion_disputed_under:.6f}\")"
   ]
  },
  {
   "cell_type": "markdown",
   "id": "6d322563-500d-487f-baef-387470251e49",
   "metadata": {},
   "source": [
    "##### 3. Fit the XGBClassifier model as described in the instructions, and evaluate it on the test set.  What is the recall for the category 'Consumer disputed?' = 'Yes' on the test set?"
   ]
  },
  {
   "cell_type": "code",
   "execution_count": 11,
   "id": "a5e8bd76-4797-48ef-a910-044431e8e03f",
   "metadata": {
    "tags": []
   },
   "outputs": [],
   "source": [
    "from xgboost import XGBClassifier\n",
    "from sklearn.metrics import classification_report\n",
    "from imblearn.under_sampling import RandomUnderSampler\n"
   ]
  },
  {
   "cell_type": "code",
   "execution_count": 12,
   "id": "3029dfd3-a8b1-44a1-9afa-8832f255fdec",
   "metadata": {
    "tags": []
   },
   "outputs": [],
   "source": [
    "# Perform random undersampling on the training data\n",
    "undersampler = RandomUnderSampler(random_state=123)\n",
    "X_train_under, y_train_under = undersampler.fit_resample(X_train, y_train)"
   ]
  },
  {
   "cell_type": "code",
   "execution_count": 13,
   "id": "444fe7bc-288e-4880-89a9-fbdc7b2e2a42",
   "metadata": {
    "tags": []
   },
   "outputs": [],
   "source": [
    "# Initialize the XGBoost classifier\n",
    "model_xgb = XGBClassifier(random_state=123)"
   ]
  },
  {
   "cell_type": "code",
   "execution_count": 14,
   "id": "2432b37a-9c05-49b5-badf-e717d41ab145",
   "metadata": {
    "tags": []
   },
   "outputs": [
    {
     "data": {
      "text/plain": [
       "array([[0., 0., 1., ..., 0., 0., 1.],\n",
       "       [0., 0., 1., ..., 0., 0., 1.],\n",
       "       [0., 0., 0., ..., 0., 0., 1.],\n",
       "       ...,\n",
       "       [0., 0., 0., ..., 0., 0., 1.],\n",
       "       [0., 0., 1., ..., 0., 0., 1.],\n",
       "       [0., 0., 1., ..., 0., 0., 1.]])"
      ]
     },
     "execution_count": 14,
     "metadata": {},
     "output_type": "execute_result"
    }
   ],
   "source": [
    "X_train_under"
   ]
  },
  {
   "cell_type": "code",
   "execution_count": 15,
   "id": "0d4cb60b-6f20-465c-8804-c28ef2c539f1",
   "metadata": {
    "tags": []
   },
   "outputs": [
    {
     "data": {
      "text/html": [
       "<style>#sk-container-id-1 {color: black;}#sk-container-id-1 pre{padding: 0;}#sk-container-id-1 div.sk-toggleable {background-color: white;}#sk-container-id-1 label.sk-toggleable__label {cursor: pointer;display: block;width: 100%;margin-bottom: 0;padding: 0.3em;box-sizing: border-box;text-align: center;}#sk-container-id-1 label.sk-toggleable__label-arrow:before {content: \"▸\";float: left;margin-right: 0.25em;color: #696969;}#sk-container-id-1 label.sk-toggleable__label-arrow:hover:before {color: black;}#sk-container-id-1 div.sk-estimator:hover label.sk-toggleable__label-arrow:before {color: black;}#sk-container-id-1 div.sk-toggleable__content {max-height: 0;max-width: 0;overflow: hidden;text-align: left;background-color: #f0f8ff;}#sk-container-id-1 div.sk-toggleable__content pre {margin: 0.2em;color: black;border-radius: 0.25em;background-color: #f0f8ff;}#sk-container-id-1 input.sk-toggleable__control:checked~div.sk-toggleable__content {max-height: 200px;max-width: 100%;overflow: auto;}#sk-container-id-1 input.sk-toggleable__control:checked~label.sk-toggleable__label-arrow:before {content: \"▾\";}#sk-container-id-1 div.sk-estimator input.sk-toggleable__control:checked~label.sk-toggleable__label {background-color: #d4ebff;}#sk-container-id-1 div.sk-label input.sk-toggleable__control:checked~label.sk-toggleable__label {background-color: #d4ebff;}#sk-container-id-1 input.sk-hidden--visually {border: 0;clip: rect(1px 1px 1px 1px);clip: rect(1px, 1px, 1px, 1px);height: 1px;margin: -1px;overflow: hidden;padding: 0;position: absolute;width: 1px;}#sk-container-id-1 div.sk-estimator {font-family: monospace;background-color: #f0f8ff;border: 1px dotted black;border-radius: 0.25em;box-sizing: border-box;margin-bottom: 0.5em;}#sk-container-id-1 div.sk-estimator:hover {background-color: #d4ebff;}#sk-container-id-1 div.sk-parallel-item::after {content: \"\";width: 100%;border-bottom: 1px solid gray;flex-grow: 1;}#sk-container-id-1 div.sk-label:hover label.sk-toggleable__label {background-color: #d4ebff;}#sk-container-id-1 div.sk-serial::before {content: \"\";position: absolute;border-left: 1px solid gray;box-sizing: border-box;top: 0;bottom: 0;left: 50%;z-index: 0;}#sk-container-id-1 div.sk-serial {display: flex;flex-direction: column;align-items: center;background-color: white;padding-right: 0.2em;padding-left: 0.2em;position: relative;}#sk-container-id-1 div.sk-item {position: relative;z-index: 1;}#sk-container-id-1 div.sk-parallel {display: flex;align-items: stretch;justify-content: center;background-color: white;position: relative;}#sk-container-id-1 div.sk-item::before, #sk-container-id-1 div.sk-parallel-item::before {content: \"\";position: absolute;border-left: 1px solid gray;box-sizing: border-box;top: 0;bottom: 0;left: 50%;z-index: -1;}#sk-container-id-1 div.sk-parallel-item {display: flex;flex-direction: column;z-index: 1;position: relative;background-color: white;}#sk-container-id-1 div.sk-parallel-item:first-child::after {align-self: flex-end;width: 50%;}#sk-container-id-1 div.sk-parallel-item:last-child::after {align-self: flex-start;width: 50%;}#sk-container-id-1 div.sk-parallel-item:only-child::after {width: 0;}#sk-container-id-1 div.sk-dashed-wrapped {border: 1px dashed gray;margin: 0 0.4em 0.5em 0.4em;box-sizing: border-box;padding-bottom: 0.4em;background-color: white;}#sk-container-id-1 div.sk-label label {font-family: monospace;font-weight: bold;display: inline-block;line-height: 1.2em;}#sk-container-id-1 div.sk-label-container {text-align: center;}#sk-container-id-1 div.sk-container {/* jupyter's `normalize.less` sets `[hidden] { display: none; }` but bootstrap.min.css set `[hidden] { display: none !important; }` so we also need the `!important` here to be able to override the default hidden behavior on the sphinx rendered scikit-learn.org. See: https://github.com/scikit-learn/scikit-learn/issues/21755 */display: inline-block !important;position: relative;}#sk-container-id-1 div.sk-text-repr-fallback {display: none;}</style><div id=\"sk-container-id-1\" class=\"sk-top-container\"><div class=\"sk-text-repr-fallback\"><pre>XGBClassifier(base_score=None, booster=None, callbacks=None,\n",
       "              colsample_bylevel=None, colsample_bynode=None,\n",
       "              colsample_bytree=None, early_stopping_rounds=None,\n",
       "              enable_categorical=False, eval_metric=None, feature_types=None,\n",
       "              gamma=None, gpu_id=None, grow_policy=None, importance_type=None,\n",
       "              interaction_constraints=None, learning_rate=None, max_bin=None,\n",
       "              max_cat_threshold=None, max_cat_to_onehot=None,\n",
       "              max_delta_step=None, max_depth=None, max_leaves=None,\n",
       "              min_child_weight=None, missing=nan, monotone_constraints=None,\n",
       "              n_estimators=100, n_jobs=None, num_parallel_tree=None,\n",
       "              predictor=None, random_state=123, ...)</pre><b>In a Jupyter environment, please rerun this cell to show the HTML representation or trust the notebook. <br />On GitHub, the HTML representation is unable to render, please try loading this page with nbviewer.org.</b></div><div class=\"sk-container\" hidden><div class=\"sk-item\"><div class=\"sk-estimator sk-toggleable\"><input class=\"sk-toggleable__control sk-hidden--visually\" id=\"sk-estimator-id-1\" type=\"checkbox\" checked><label for=\"sk-estimator-id-1\" class=\"sk-toggleable__label sk-toggleable__label-arrow\">XGBClassifier</label><div class=\"sk-toggleable__content\"><pre>XGBClassifier(base_score=None, booster=None, callbacks=None,\n",
       "              colsample_bylevel=None, colsample_bynode=None,\n",
       "              colsample_bytree=None, early_stopping_rounds=None,\n",
       "              enable_categorical=False, eval_metric=None, feature_types=None,\n",
       "              gamma=None, gpu_id=None, grow_policy=None, importance_type=None,\n",
       "              interaction_constraints=None, learning_rate=None, max_bin=None,\n",
       "              max_cat_threshold=None, max_cat_to_onehot=None,\n",
       "              max_delta_step=None, max_depth=None, max_leaves=None,\n",
       "              min_child_weight=None, missing=nan, monotone_constraints=None,\n",
       "              n_estimators=100, n_jobs=None, num_parallel_tree=None,\n",
       "              predictor=None, random_state=123, ...)</pre></div></div></div></div></div>"
      ],
      "text/plain": [
       "XGBClassifier(base_score=None, booster=None, callbacks=None,\n",
       "              colsample_bylevel=None, colsample_bynode=None,\n",
       "              colsample_bytree=None, early_stopping_rounds=None,\n",
       "              enable_categorical=False, eval_metric=None, feature_types=None,\n",
       "              gamma=None, gpu_id=None, grow_policy=None, importance_type=None,\n",
       "              interaction_constraints=None, learning_rate=None, max_bin=None,\n",
       "              max_cat_threshold=None, max_cat_to_onehot=None,\n",
       "              max_delta_step=None, max_depth=None, max_leaves=None,\n",
       "              min_child_weight=None, missing=nan, monotone_constraints=None,\n",
       "              n_estimators=100, n_jobs=None, num_parallel_tree=None,\n",
       "              predictor=None, random_state=123, ...)"
      ]
     },
     "execution_count": 15,
     "metadata": {},
     "output_type": "execute_result"
    }
   ],
   "source": [
    "# Fit the model on the undersampled training data\n",
    "model_xgb.fit(X_train_under, y_train_under)"
   ]
  },
  {
   "cell_type": "code",
   "execution_count": 16,
   "id": "c18e841a-9e46-4020-91cb-690641ff90f1",
   "metadata": {
    "tags": []
   },
   "outputs": [
    {
     "name": "stdout",
     "output_type": "stream",
     "text": [
      "Recall for 'Consumer disputed?' = 'Yes': 0.63\n"
     ]
    }
   ],
   "source": [
    "# Predict on the test set\n",
    "y_pred = model_xgb.predict(X_test)\n",
    "\n",
    "# Calculate recall for 'Consumer disputed?' = 'Yes'\n",
    "report = classification_report(y_test, y_pred, target_names=le.classes_, output_dict=True)\n",
    "recall_disputed = report['Yes']['recall']\n",
    "\n",
    "print(f\"Recall for 'Consumer disputed?' = 'Yes': {recall_disputed:.2f}\")"
   ]
  },
  {
   "cell_type": "code",
   "execution_count": 17,
   "id": "ccfa1d9c-eb68-4625-88f6-7cf059199ed6",
   "metadata": {
    "tags": []
   },
   "outputs": [
    {
     "name": "stdout",
     "output_type": "stream",
     "text": [
      "              precision    recall  f1-score   support\n",
      "\n",
      "           0       0.84      0.53      0.65     32504\n",
      "           1       0.27      0.63      0.38      8948\n",
      "\n",
      "    accuracy                           0.55     41452\n",
      "   macro avg       0.55      0.58      0.51     41452\n",
      "weighted avg       0.72      0.55      0.59     41452\n",
      "\n",
      "[[17128 15376]\n",
      " [ 3302  5646]]\n"
     ]
    },
    {
     "data": {
      "image/png": "[encoded data removed]",
      "text/plain": [
       "<Figure size 640x480 with 2 Axes>"
      ]
     },
     "metadata": {},
     "output_type": "display_data"
    }
   ],
   "source": [
    "# Print out the classification report, which includes main classification metrics\n",
    "print(classification_report(y_test, y_pred))\n",
    "# Print out the confusion matrix\n",
    "from sklearn.metrics import confusion_matrix\n",
    "print(confusion_matrix(y_test, y_pred))\n",
    "# Display the confusion matrix using ConfusionMatrixDisplay\n",
    "from sklearn.metrics import ConfusionMatrixDisplay\n",
    "ConfusionMatrixDisplay.from_estimator(model_xgb, X_test, y_test);"
   ]
  },
  {
   "cell_type": "markdown",
   "id": "87ac8b9f-6e97-4956-99af-1650c42020d7",
   "metadata": {},
   "source": [
    "##### 4. If there were no model, what would be the total cost to the banks of dealing with the complaints in the test set?"
   ]
  },
  {
   "cell_type": "code",
   "execution_count": 18,
   "id": "f58ea769-063c-4233-b788-834ff371d3e6",
   "metadata": {
    "tags": []
   },
   "outputs": [
    {
     "name": "stdout",
     "output_type": "stream",
     "text": [
      "Total cost without a model: $8619200\n"
     ]
    }
   ],
   "source": [
    "# 1 representing 'disputed' and 0 representing 'not disputed'\n",
    "# Calculate the number of non-disputed complaints\n",
    "non_disputed_complaints = (y_test == 0).sum()\n",
    "\n",
    "# Calculate the number of disputed complaints\n",
    "disputed_complaints = (y_test == 1).sum()\n",
    "\n",
    "# Calculate the total cost without a model\n",
    "total_cost = (non_disputed_complaints * 100) + (disputed_complaints * 600)\n",
    "\n",
    "print(f\"Total cost without a model: ${total_cost}\")"
   ]
  },
  {
   "cell_type": "markdown",
   "id": "13b5203e-2bdd-4e5a-8059-0a3b6f060f5c",
   "metadata": {},
   "source": [
    "##### 5. Use the predictions for which complaints are likely to be disputed from the model you have created (using the default classification threshold).  Assume that if the model predicts a complaint will be disputed, the banks decide to spend 90 dollar performing extra diligence to avoid the 600 dollar cost of a dispute. \n",
    "In this situation based on model results, what would be the total cost to the banks of dealing with the complaints in the test set?\n",
    "\n"
   ]
  },
  {
   "cell_type": "code",
   "execution_count": 19,
   "id": "f477bc5f-3da3-4794-98b1-6e887840f1df",
   "metadata": {
    "tags": []
   },
   "outputs": [],
   "source": [
    "# Predictions from the model\n",
    "y_pred = model_xgb.predict(X_test)"
   ]
  },
  {
   "cell_type": "code",
   "execution_count": 20,
   "id": "36ea83f7-6199-4a6a-a28f-d4491b194577",
   "metadata": {
    "tags": []
   },
   "outputs": [
    {
     "name": "stdout",
     "output_type": "stream",
     "text": [
      "Total cost with model: $7586750\n"
     ]
    }
   ],
   "source": [
    "# Use the values from the confusion matrix\n",
    "TN = 17353\n",
    "FP = 15151\n",
    "TP = 5844\n",
    "FN = 3104\n",
    "\n",
    "cost_extra_diligence = 90\n",
    "cost_dispute = 600\n",
    "cost_standard = 100\n",
    "total_cost_with_model = (TP + FP) * (cost_extra_diligence + cost_standard) + FN * cost_dispute + TN * cost_standard\n",
    "\n",
    "print(f\"Total cost with model: ${total_cost_with_model}\")"
   ]
  },
  {
   "cell_type": "markdown",
   "id": "023888a0-5c6a-4d3c-a41f-ef1b40346936",
   "metadata": {},
   "source": [
    "##### 6. The costs to the banks from doing due diligence and from having disputes are asymmetrical.  Therefore you have the opportunity to reduce total cost by varying the probability threshold from the default 0.5 in a binary classification situation as this.\n",
    "\n",
    "Change the value of the threshold and determine the lowest total cost to the banks based on the observations in the test set.\n"
   ]
  },
  {
   "cell_type": "code",
   "execution_count": 22,
   "id": "4c974a8f-0d03-4bc9-8f6e-c248723c5862",
   "metadata": {
    "tags": []
   },
   "outputs": [
    {
     "name": "stdout",
     "output_type": "stream",
     "text": [
      "Optimal threshold: 0.44\n",
      "Total cost at optimal threshold: $7609520\n"
     ]
    }
   ],
   "source": [
    "import numpy as np\n",
    "# Predict the probabilities for the positive class (class 1)\n",
    "probs = model_xgb.predict_proba(X_test)[:, 1]\n",
    "\n",
    "# Define the cost function based on the problem statement\n",
    "def calculate_cost(threshold, y_true, y_probs):\n",
    "    y_pred = (y_probs >= threshold).astype(int)\n",
    "    tn, fp, fn, tp = confusion_matrix(y_true, y_pred).ravel()\n",
    "    return (tp * 190) + (fp * 190) + (tn * 100) + (fn * 600)\n",
    "\n",
    "# Initialize the minimum cost to a large number and the optimal threshold to None\n",
    "min_cost = float('inf')\n",
    "optimal_threshold = None\n",
    "\n",
    "# Iterate over a range of thresholds to find the one that minimizes the total cost\n",
    "for threshold in np.linspace(0, 1, 101):\n",
    "    cost = calculate_cost(threshold, y_test, probs)\n",
    "    if cost < min_cost:\n",
    "        min_cost = cost\n",
    "        optimal_threshold = threshold\n",
    "\n",
    "# Output the optimal threshold and the corresponding cost\n",
    "print(f\"Optimal threshold: {optimal_threshold}\")\n",
    "print(f\"Total cost at optimal threshold: ${min_cost}\")\n"
   ]
  },
  {
   "cell_type": "code",
   "execution_count": null,
   "id": "4dc5e113-c9c7-402b-a4df-a9df29deab19",
   "metadata": {},
   "outputs": [],
   "source": []
  }
 ],
 "metadata": {
  "kernelspec": {
   "display_name": "Python [conda env:mggy8413]",
   "language": "python",
   "name": "conda-env-mggy8413-py"
  },
  "language_info": {
   "codemirror_mode": {
    "name": "ipython",
    "version": 3
   },
   "file_extension": ".py",
   "mimetype": "text/x-python",
   "name": "python",
   "nbconvert_exporter": "python",
   "pygments_lexer": "ipython3",
   "version": "3.10.12"
  }
 },
 "nbformat": 4,
 "nbformat_minor": 5
}
