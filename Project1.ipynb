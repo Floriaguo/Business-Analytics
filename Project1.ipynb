{
 "cells": [
  {
   "cell_type": "markdown",
   "id": "e695c502-2114-4e39-b95c-f4c6e86aae8c",
   "metadata": {
    "tags": []
   },
   "source": [
    "## NY Motor Vehicle Collisions —— Exploratory Data Analysis\n",
    "Source：New York’s Vehicular crash data available at https://data.cityofnewyork.us/Public-Safety/Motor-Vehicle-Collisions-Crashes/h9gi-nx95\n",
    "\n",
    "The dataset I have at hand comprises information extracted from police reports, specifically the MV104-AN, which is mandatory for documenting motor vehicle collisions in New York City (NYC) involving injuries, fatalities, or property damage exceeding $1000.\n",
    "\n",
    "The dataset covers incidents from July 1, 2012, onward. However, for the purpose of this analysis, I will focus on the period up to August 15, 2023, which is when I obtained the data.\n",
    "\n",
    "I have access to more than 2 million records within this dataset, which presents an opportunity to investigate various facets of vehicular accidents in the different boroughs of NYC.\n",
    "\n",
    "Commencing with an exploratory data analysis, I aim to address the following questions:\n",
    "\n",
    "- I intend to identify the borough with the highest reported crash count since 2012.\n",
    "\n",
    "- I will correlate the crash counts with each borough's population to determine which borough has the highest number of crashes per 100,000 people. Although the dataset lacks population information, merging the crash data with population estimates available from the City of New York's website will enable this analysis:\n",
    "(https://data.cityofnewyork.us/City-Government/New-York-City-Population-by-Borough-1950-2040/xywu-7bv9)\n",
    "\n",
    "| Borough | Population |\n",
    "| --- | --- |\n",
    "| Bronx | 1446788 |\n",
    "| Brooklyn | 2648452 |\n",
    "| Manhattan | 1638281 |\n",
    "| Queens | 2330295 |\n",
    "| Staten Island | 487155 | \n",
    "\n",
    "- The primary cause of crashes will be investigated.\n",
    "\n",
    "- I will identify the top three causes of crashes and calculate what proportion of all crashes are caused by these top-3 causes.\n",
    "\n",
    "- To gauge the severity of accidents, I will determine how many involved at least one fatality.\n",
    "\n",
    "- Calculating the average number of fatal accidents per 1000 accidents is on my agenda.\n",
    "\n",
    "- Checking for missing data and calculating the proportion of accidents in the dataset without a borough code is also a part of this analysis.\n",
    "\n",
    "- I will scrutinize the 'VEHICLE TYPE CODE 1' and 'VEHICLE TYPE CODE 2' fields to identify the combinations of vehicles involved in the highest number of accidents.\n",
    "\n"
   ]
  },
  {
   "cell_type": "code",
   "execution_count": 1,
   "id": "a4b75bb7-4593-4228-87fd-0c87a903f0eb",
   "metadata": {},
   "outputs": [],
   "source": [
    "import pandas as pd\n",
    "import numpy as np\n",
    "import seaborn as sns\n",
    "import os\n",
    "import matplotlib.pyplot as plt\n",
    "import phik\n",
    "from IPython.display import Markdown as md"
   ]
  },
  {
   "cell_type": "code",
   "execution_count": 2,
   "id": "05b21ef6-4758-4976-b1ac-22fd3898fdf6",
   "metadata": {},
   "outputs": [
    {
     "data": {
      "text/html": [
       "<div>\n",
       "<style scoped>\n",
       "    .dataframe tbody tr th:only-of-type {\n",
       "        vertical-align: middle;\n",
       "    }\n",
       "\n",
       "    .dataframe tbody tr th {\n",
       "        vertical-align: top;\n",
       "    }\n",
       "\n",
       "    .dataframe thead th {\n",
       "        text-align: right;\n",
       "    }\n",
       "</style>\n",
       "<table border=\"1\" class=\"dataframe\">\n",
       "  <thead>\n",
       "    <tr style=\"text-align: right;\">\n",
       "      <th></th>\n",
       "      <th>CRASH DATE_CRASH TIME</th>\n",
       "      <th>BOROUGH</th>\n",
       "      <th>ZIP CODE</th>\n",
       "      <th>LATITUDE</th>\n",
       "      <th>LONGITUDE</th>\n",
       "      <th>LOCATION</th>\n",
       "      <th>ON STREET NAME</th>\n",
       "      <th>CROSS STREET NAME</th>\n",
       "      <th>OFF STREET NAME</th>\n",
       "      <th>NUMBER OF PERSONS INJURED</th>\n",
       "      <th>...</th>\n",
       "      <th>CONTRIBUTING FACTOR VEHICLE 2</th>\n",
       "      <th>CONTRIBUTING FACTOR VEHICLE 3</th>\n",
       "      <th>CONTRIBUTING FACTOR VEHICLE 4</th>\n",
       "      <th>CONTRIBUTING FACTOR VEHICLE 5</th>\n",
       "      <th>COLLISION_ID</th>\n",
       "      <th>VEHICLE TYPE CODE 1</th>\n",
       "      <th>VEHICLE TYPE CODE 2</th>\n",
       "      <th>VEHICLE TYPE CODE 3</th>\n",
       "      <th>VEHICLE TYPE CODE 4</th>\n",
       "      <th>VEHICLE TYPE CODE 5</th>\n",
       "    </tr>\n",
       "  </thead>\n",
       "  <tbody>\n",
       "    <tr>\n",
       "      <th>0</th>\n",
       "      <td>2021-09-11 02:39:00</td>\n",
       "      <td>NaN</td>\n",
       "      <td>NaN</td>\n",
       "      <td>NaN</td>\n",
       "      <td>NaN</td>\n",
       "      <td>NaN</td>\n",
       "      <td>WHITESTONE EXPRESSWAY</td>\n",
       "      <td>20 AVENUE</td>\n",
       "      <td>NaN</td>\n",
       "      <td>2.0</td>\n",
       "      <td>...</td>\n",
       "      <td>Unspecified</td>\n",
       "      <td>NaN</td>\n",
       "      <td>NaN</td>\n",
       "      <td>NaN</td>\n",
       "      <td>4455765</td>\n",
       "      <td>Sedan</td>\n",
       "      <td>Sedan</td>\n",
       "      <td>NaN</td>\n",
       "      <td>NaN</td>\n",
       "      <td>NaN</td>\n",
       "    </tr>\n",
       "    <tr>\n",
       "      <th>1</th>\n",
       "      <td>2022-03-26 11:45:00</td>\n",
       "      <td>NaN</td>\n",
       "      <td>NaN</td>\n",
       "      <td>NaN</td>\n",
       "      <td>NaN</td>\n",
       "      <td>NaN</td>\n",
       "      <td>QUEENSBORO BRIDGE UPPER</td>\n",
       "      <td>NaN</td>\n",
       "      <td>NaN</td>\n",
       "      <td>1.0</td>\n",
       "      <td>...</td>\n",
       "      <td>NaN</td>\n",
       "      <td>NaN</td>\n",
       "      <td>NaN</td>\n",
       "      <td>NaN</td>\n",
       "      <td>4513547</td>\n",
       "      <td>Sedan</td>\n",
       "      <td>NaN</td>\n",
       "      <td>NaN</td>\n",
       "      <td>NaN</td>\n",
       "      <td>NaN</td>\n",
       "    </tr>\n",
       "    <tr>\n",
       "      <th>2</th>\n",
       "      <td>2022-06-29 06:55:00</td>\n",
       "      <td>NaN</td>\n",
       "      <td>NaN</td>\n",
       "      <td>NaN</td>\n",
       "      <td>NaN</td>\n",
       "      <td>NaN</td>\n",
       "      <td>THROGS NECK BRIDGE</td>\n",
       "      <td>NaN</td>\n",
       "      <td>NaN</td>\n",
       "      <td>0.0</td>\n",
       "      <td>...</td>\n",
       "      <td>Unspecified</td>\n",
       "      <td>NaN</td>\n",
       "      <td>NaN</td>\n",
       "      <td>NaN</td>\n",
       "      <td>4541903</td>\n",
       "      <td>Sedan</td>\n",
       "      <td>Pick-up Truck</td>\n",
       "      <td>NaN</td>\n",
       "      <td>NaN</td>\n",
       "      <td>NaN</td>\n",
       "    </tr>\n",
       "    <tr>\n",
       "      <th>3</th>\n",
       "      <td>2021-09-11 09:35:00</td>\n",
       "      <td>BROOKLYN</td>\n",
       "      <td>11208.0</td>\n",
       "      <td>40.667202</td>\n",
       "      <td>-73.866500</td>\n",
       "      <td>(40.667202, -73.8665)</td>\n",
       "      <td>NaN</td>\n",
       "      <td>NaN</td>\n",
       "      <td>1211      LORING AVENUE</td>\n",
       "      <td>0.0</td>\n",
       "      <td>...</td>\n",
       "      <td>NaN</td>\n",
       "      <td>NaN</td>\n",
       "      <td>NaN</td>\n",
       "      <td>NaN</td>\n",
       "      <td>4456314</td>\n",
       "      <td>Sedan</td>\n",
       "      <td>NaN</td>\n",
       "      <td>NaN</td>\n",
       "      <td>NaN</td>\n",
       "      <td>NaN</td>\n",
       "    </tr>\n",
       "    <tr>\n",
       "      <th>4</th>\n",
       "      <td>2021-12-14 08:13:00</td>\n",
       "      <td>BROOKLYN</td>\n",
       "      <td>11233.0</td>\n",
       "      <td>40.683304</td>\n",
       "      <td>-73.917274</td>\n",
       "      <td>(40.683304, -73.917274)</td>\n",
       "      <td>SARATOGA AVENUE</td>\n",
       "      <td>DECATUR STREET</td>\n",
       "      <td>NaN</td>\n",
       "      <td>0.0</td>\n",
       "      <td>...</td>\n",
       "      <td>NaN</td>\n",
       "      <td>NaN</td>\n",
       "      <td>NaN</td>\n",
       "      <td>NaN</td>\n",
       "      <td>4486609</td>\n",
       "      <td>NaN</td>\n",
       "      <td>NaN</td>\n",
       "      <td>NaN</td>\n",
       "      <td>NaN</td>\n",
       "      <td>NaN</td>\n",
       "    </tr>\n",
       "    <tr>\n",
       "      <th>...</th>\n",
       "      <td>...</td>\n",
       "      <td>...</td>\n",
       "      <td>...</td>\n",
       "      <td>...</td>\n",
       "      <td>...</td>\n",
       "      <td>...</td>\n",
       "      <td>...</td>\n",
       "      <td>...</td>\n",
       "      <td>...</td>\n",
       "      <td>...</td>\n",
       "      <td>...</td>\n",
       "      <td>...</td>\n",
       "      <td>...</td>\n",
       "      <td>...</td>\n",
       "      <td>...</td>\n",
       "      <td>...</td>\n",
       "      <td>...</td>\n",
       "      <td>...</td>\n",
       "      <td>...</td>\n",
       "      <td>...</td>\n",
       "      <td>...</td>\n",
       "    </tr>\n",
       "    <tr>\n",
       "      <th>2018240</th>\n",
       "      <td>2023-07-03 18:05:00</td>\n",
       "      <td>NaN</td>\n",
       "      <td>NaN</td>\n",
       "      <td>40.866806</td>\n",
       "      <td>-73.931010</td>\n",
       "      <td>(40.866806, -73.93101)</td>\n",
       "      <td>RIVERSIDE DRIVE</td>\n",
       "      <td>NaN</td>\n",
       "      <td>NaN</td>\n",
       "      <td>0.0</td>\n",
       "      <td>...</td>\n",
       "      <td>Unspecified</td>\n",
       "      <td>NaN</td>\n",
       "      <td>NaN</td>\n",
       "      <td>NaN</td>\n",
       "      <td>4648110</td>\n",
       "      <td>Sedan</td>\n",
       "      <td>Sedan</td>\n",
       "      <td>NaN</td>\n",
       "      <td>NaN</td>\n",
       "      <td>NaN</td>\n",
       "    </tr>\n",
       "    <tr>\n",
       "      <th>2018241</th>\n",
       "      <td>2023-07-22 21:39:00</td>\n",
       "      <td>BRONX</td>\n",
       "      <td>10457.0</td>\n",
       "      <td>40.844177</td>\n",
       "      <td>-73.902920</td>\n",
       "      <td>(40.844177, -73.90292)</td>\n",
       "      <td>EAST 174 STREET</td>\n",
       "      <td>WEBSTER AVENUE</td>\n",
       "      <td>NaN</td>\n",
       "      <td>1.0</td>\n",
       "      <td>...</td>\n",
       "      <td>NaN</td>\n",
       "      <td>NaN</td>\n",
       "      <td>NaN</td>\n",
       "      <td>NaN</td>\n",
       "      <td>4648117</td>\n",
       "      <td>Sedan</td>\n",
       "      <td>NaN</td>\n",
       "      <td>NaN</td>\n",
       "      <td>NaN</td>\n",
       "      <td>NaN</td>\n",
       "    </tr>\n",
       "    <tr>\n",
       "      <th>2018242</th>\n",
       "      <td>2023-07-02 17:55:00</td>\n",
       "      <td>MANHATTAN</td>\n",
       "      <td>10006.0</td>\n",
       "      <td>40.711033</td>\n",
       "      <td>-74.014540</td>\n",
       "      <td>(40.711033, -74.01454)</td>\n",
       "      <td>WEST STREET</td>\n",
       "      <td>LIBERTY STREET</td>\n",
       "      <td>NaN</td>\n",
       "      <td>0.0</td>\n",
       "      <td>...</td>\n",
       "      <td>NaN</td>\n",
       "      <td>NaN</td>\n",
       "      <td>NaN</td>\n",
       "      <td>NaN</td>\n",
       "      <td>4648366</td>\n",
       "      <td>Taxi</td>\n",
       "      <td>NaN</td>\n",
       "      <td>NaN</td>\n",
       "      <td>NaN</td>\n",
       "      <td>NaN</td>\n",
       "    </tr>\n",
       "    <tr>\n",
       "      <th>2018243</th>\n",
       "      <td>2023-07-22 13:15:00</td>\n",
       "      <td>QUEENS</td>\n",
       "      <td>11433.0</td>\n",
       "      <td>40.691580</td>\n",
       "      <td>-73.793190</td>\n",
       "      <td>(40.69158, -73.79319)</td>\n",
       "      <td>110 AVENUE</td>\n",
       "      <td>157 STREET</td>\n",
       "      <td>NaN</td>\n",
       "      <td>1.0</td>\n",
       "      <td>...</td>\n",
       "      <td>Driver Inattention/Distraction</td>\n",
       "      <td>NaN</td>\n",
       "      <td>NaN</td>\n",
       "      <td>NaN</td>\n",
       "      <td>4648129</td>\n",
       "      <td>Station Wagon/Sport Utility Vehicle</td>\n",
       "      <td>E-Bike</td>\n",
       "      <td>NaN</td>\n",
       "      <td>NaN</td>\n",
       "      <td>NaN</td>\n",
       "    </tr>\n",
       "    <tr>\n",
       "      <th>2018244</th>\n",
       "      <td>2023-07-22 03:00:00</td>\n",
       "      <td>QUEENS</td>\n",
       "      <td>11433.0</td>\n",
       "      <td>40.700240</td>\n",
       "      <td>-73.792854</td>\n",
       "      <td>(40.70024, -73.792854)</td>\n",
       "      <td>SOUTH ROAD</td>\n",
       "      <td>164 STREET</td>\n",
       "      <td>NaN</td>\n",
       "      <td>0.0</td>\n",
       "      <td>...</td>\n",
       "      <td>NaN</td>\n",
       "      <td>NaN</td>\n",
       "      <td>NaN</td>\n",
       "      <td>NaN</td>\n",
       "      <td>4647913</td>\n",
       "      <td>Sedan</td>\n",
       "      <td>NaN</td>\n",
       "      <td>NaN</td>\n",
       "      <td>NaN</td>\n",
       "      <td>NaN</td>\n",
       "    </tr>\n",
       "  </tbody>\n",
       "</table>\n",
       "<p>2018245 rows × 28 columns</p>\n",
       "</div>"
      ],
      "text/plain": [
       "        CRASH DATE_CRASH TIME    BOROUGH ZIP CODE   LATITUDE  LONGITUDE  \\\n",
       "0         2021-09-11 02:39:00        NaN      NaN        NaN        NaN   \n",
       "1         2022-03-26 11:45:00        NaN      NaN        NaN        NaN   \n",
       "2         2022-06-29 06:55:00        NaN      NaN        NaN        NaN   \n",
       "3         2021-09-11 09:35:00   BROOKLYN  11208.0  40.667202 -73.866500   \n",
       "4         2021-12-14 08:13:00   BROOKLYN  11233.0  40.683304 -73.917274   \n",
       "...                       ...        ...      ...        ...        ...   \n",
       "2018240   2023-07-03 18:05:00        NaN      NaN  40.866806 -73.931010   \n",
       "2018241   2023-07-22 21:39:00      BRONX  10457.0  40.844177 -73.902920   \n",
       "2018242   2023-07-02 17:55:00  MANHATTAN  10006.0  40.711033 -74.014540   \n",
       "2018243   2023-07-22 13:15:00     QUEENS  11433.0  40.691580 -73.793190   \n",
       "2018244   2023-07-22 03:00:00     QUEENS  11433.0  40.700240 -73.792854   \n",
       "\n",
       "                        LOCATION           ON STREET NAME CROSS STREET NAME  \\\n",
       "0                            NaN    WHITESTONE EXPRESSWAY         20 AVENUE   \n",
       "1                            NaN  QUEENSBORO BRIDGE UPPER               NaN   \n",
       "2                            NaN       THROGS NECK BRIDGE               NaN   \n",
       "3          (40.667202, -73.8665)                      NaN               NaN   \n",
       "4        (40.683304, -73.917274)          SARATOGA AVENUE    DECATUR STREET   \n",
       "...                          ...                      ...               ...   \n",
       "2018240   (40.866806, -73.93101)          RIVERSIDE DRIVE               NaN   \n",
       "2018241   (40.844177, -73.90292)          EAST 174 STREET    WEBSTER AVENUE   \n",
       "2018242   (40.711033, -74.01454)              WEST STREET    LIBERTY STREET   \n",
       "2018243    (40.69158, -73.79319)               110 AVENUE        157 STREET   \n",
       "2018244   (40.70024, -73.792854)               SOUTH ROAD        164 STREET   \n",
       "\n",
       "                 OFF STREET NAME  NUMBER OF PERSONS INJURED  ...  \\\n",
       "0                            NaN                        2.0  ...   \n",
       "1                            NaN                        1.0  ...   \n",
       "2                            NaN                        0.0  ...   \n",
       "3        1211      LORING AVENUE                        0.0  ...   \n",
       "4                            NaN                        0.0  ...   \n",
       "...                          ...                        ...  ...   \n",
       "2018240                      NaN                        0.0  ...   \n",
       "2018241                      NaN                        1.0  ...   \n",
       "2018242                      NaN                        0.0  ...   \n",
       "2018243                      NaN                        1.0  ...   \n",
       "2018244                      NaN                        0.0  ...   \n",
       "\n",
       "          CONTRIBUTING FACTOR VEHICLE 2  CONTRIBUTING FACTOR VEHICLE 3  \\\n",
       "0                           Unspecified                            NaN   \n",
       "1                                   NaN                            NaN   \n",
       "2                           Unspecified                            NaN   \n",
       "3                                   NaN                            NaN   \n",
       "4                                   NaN                            NaN   \n",
       "...                                 ...                            ...   \n",
       "2018240                     Unspecified                            NaN   \n",
       "2018241                             NaN                            NaN   \n",
       "2018242                             NaN                            NaN   \n",
       "2018243  Driver Inattention/Distraction                            NaN   \n",
       "2018244                             NaN                            NaN   \n",
       "\n",
       "         CONTRIBUTING FACTOR VEHICLE 4  CONTRIBUTING FACTOR VEHICLE 5  \\\n",
       "0                                  NaN                            NaN   \n",
       "1                                  NaN                            NaN   \n",
       "2                                  NaN                            NaN   \n",
       "3                                  NaN                            NaN   \n",
       "4                                  NaN                            NaN   \n",
       "...                                ...                            ...   \n",
       "2018240                            NaN                            NaN   \n",
       "2018241                            NaN                            NaN   \n",
       "2018242                            NaN                            NaN   \n",
       "2018243                            NaN                            NaN   \n",
       "2018244                            NaN                            NaN   \n",
       "\n",
       "         COLLISION_ID                  VEHICLE TYPE CODE 1  \\\n",
       "0             4455765                                Sedan   \n",
       "1             4513547                                Sedan   \n",
       "2             4541903                                Sedan   \n",
       "3             4456314                                Sedan   \n",
       "4             4486609                                  NaN   \n",
       "...               ...                                  ...   \n",
       "2018240       4648110                                Sedan   \n",
       "2018241       4648117                                Sedan   \n",
       "2018242       4648366                                 Taxi   \n",
       "2018243       4648129  Station Wagon/Sport Utility Vehicle   \n",
       "2018244       4647913                                Sedan   \n",
       "\n",
       "         VEHICLE TYPE CODE 2 VEHICLE TYPE CODE 3 VEHICLE TYPE CODE 4  \\\n",
       "0                      Sedan                 NaN                 NaN   \n",
       "1                        NaN                 NaN                 NaN   \n",
       "2              Pick-up Truck                 NaN                 NaN   \n",
       "3                        NaN                 NaN                 NaN   \n",
       "4                        NaN                 NaN                 NaN   \n",
       "...                      ...                 ...                 ...   \n",
       "2018240                Sedan                 NaN                 NaN   \n",
       "2018241                  NaN                 NaN                 NaN   \n",
       "2018242                  NaN                 NaN                 NaN   \n",
       "2018243               E-Bike                 NaN                 NaN   \n",
       "2018244                  NaN                 NaN                 NaN   \n",
       "\n",
       "        VEHICLE TYPE CODE 5  \n",
       "0                       NaN  \n",
       "1                       NaN  \n",
       "2                       NaN  \n",
       "3                       NaN  \n",
       "4                       NaN  \n",
       "...                     ...  \n",
       "2018240                 NaN  \n",
       "2018241                 NaN  \n",
       "2018242                 NaN  \n",
       "2018243                 NaN  \n",
       "2018244                 NaN  \n",
       "\n",
       "[2018245 rows x 28 columns]"
      ]
     },
     "execution_count": 2,
     "metadata": {},
     "output_type": "execute_result"
    }
   ],
   "source": [
    "df = pd.read_pickle(\"shared/Motor_Vehicle_Collisions_-_Crashes.pkl\")\n",
    "df\n"
   ]
  },
  {
   "cell_type": "markdown",
   "id": "2bffc066-68d0-40b8-ad15-f4da914ccb08",
   "metadata": {},
   "source": [
    "#### 1.The borough with the highest reported crash count since 2012"
   ]
  },
  {
   "cell_type": "code",
   "execution_count": 3,
   "id": "13262c7a-4518-41c5-96e3-75ec01ffc51b",
   "metadata": {},
   "outputs": [
    {
     "data": {
      "text/plain": [
       "'The borough with the highest number of crashes since 2012 is BROOKLYN with 441026 crashes.'"
      ]
     },
     "execution_count": 3,
     "metadata": {},
     "output_type": "execute_result"
    }
   ],
   "source": [
    "# Filter out rows with missing values in the 'BOROUGH' column\n",
    "crash_data_filtered = df.dropna(subset=['BOROUGH'])\n",
    "# Group by 'BOROUGH' and count the number of crashes in each borough\n",
    "borough_crash_counts = crash_data_filtered['BOROUGH'].value_counts()\n",
    "# Find the borough with the highest crash count\n",
    "highest_crash_borough = borough_crash_counts.idxmax()\n",
    "highest_crash_count = borough_crash_counts.max()\n",
    "f\"The borough with the highest number of crashes since 2012 is {highest_crash_borough} with {highest_crash_count} crashes.\""
   ]
  },
  {
   "cell_type": "markdown",
   "id": "bd873faa-ddee-44bb-a721-79ebca055938",
   "metadata": {
    "tags": []
   },
   "source": [
    "#### 2.The Borough with the maximum number of crashes adjusted for population"
   ]
  },
  {
   "cell_type": "code",
   "execution_count": 4,
   "id": "3649814c-9dcd-4474-9727-666ae31e0419",
   "metadata": {
    "tags": []
   },
   "outputs": [],
   "source": [
    "# Population data\n",
    "population_data = {\n",
    "    'Borough': ['Bronx', 'Brooklyn', 'Manhattan', 'Queens', 'Staten Island'],\n",
    "    'Population': [1446788, 2648452, 1638281, 2330295, 487155]\n",
    "}\n",
    "population_df = pd.DataFrame(population_data)"
   ]
  },
  {
   "cell_type": "code",
   "execution_count": 5,
   "id": "80077d76-851f-4a0e-a4e0-4ab05ea150b9",
   "metadata": {
    "tags": []
   },
   "outputs": [],
   "source": [
    "crash_data_filtered = df.dropna(subset=['BOROUGH'])\n",
    "# Group by 'BOROUGH' and count the number of crashes in each borough\n",
    "borough_crash_counts = crash_data_filtered['BOROUGH'].value_counts()"
   ]
  },
  {
   "cell_type": "code",
   "execution_count": 6,
   "id": "57420d14-ca9a-4844-89e5-5a02d541ff55",
   "metadata": {
    "tags": []
   },
   "outputs": [],
   "source": [
    "population_df.set_index('Borough')\n",
    "population_df.index = [str(x).upper() for x in population_df['Borough']]"
   ]
  },
  {
   "cell_type": "code",
   "execution_count": 7,
   "id": "2c6dea37-2175-4017-8151-3d694cb76e0c",
   "metadata": {
    "tags": []
   },
   "outputs": [],
   "source": [
    "# Calculate crash rate per 100,000 people for each borough\n",
    "borough_crash_rates = (borough_crash_counts / population_df['Population']) * 100000"
   ]
  },
  {
   "cell_type": "code",
   "execution_count": 8,
   "id": "c1e4b2a7-5c6b-4f8e-85f2-653811e5afdd",
   "metadata": {
    "tags": []
   },
   "outputs": [
    {
     "data": {
      "text/plain": [
       "19122"
      ]
     },
     "execution_count": 8,
     "metadata": {},
     "output_type": "execute_result"
    }
   ],
   "source": [
    "highest_crash_rate_borough = borough_crash_rates.idxmax()\n",
    "highest_crash_rate = borough_crash_rates.max()\n",
    "round(highest_crash_rate)"
   ]
  },
  {
   "cell_type": "markdown",
   "id": "044af976-c7e7-406a-a128-e9af7eb37f19",
   "metadata": {},
   "source": [
    "#### 3.The leading cause of crashes"
   ]
  },
  {
   "cell_type": "code",
   "execution_count": 9,
   "id": "66f036f4-87fb-4c59-842c-458ea34929c5",
   "metadata": {
    "tags": []
   },
   "outputs": [
    {
     "name": "stdout",
     "output_type": "stream",
     "text": [
      "Driver Inattention/Distraction\n",
      "401262\n",
      "30.3%\n"
     ]
    }
   ],
   "source": [
    "# Filter out rows where 'CONTRIBUTING FACTOR VEHICLE 1' is 'Unspecified'\n",
    "crash_data_filtered = df[df['CONTRIBUTING FACTOR VEHICLE 1'] != 'Unspecified']\n",
    "# Count the occurrences of each contributing factor\n",
    "contributing_factor_counts = crash_data_filtered['CONTRIBUTING FACTOR VEHICLE 1'].value_counts()\n",
    "# Find the leading cause of crashes\n",
    "leading_cause = contributing_factor_counts.index[0]\n",
    "leading_cause_count = contributing_factor_counts.iloc[0]\n",
    "# The proportion of accidents are attributable to this cause\n",
    "total_crashes = len(crash_data_filtered)\n",
    "proportion_of_accidents = (leading_cause_count / total_crashes) * 100\n",
    "\n",
    "print(leading_cause)\n",
    "print(leading_cause_count)\n",
    "print(str(round(proportion_of_accidents, 1)) + '%')"
   ]
  },
  {
   "cell_type": "markdown",
   "id": "d2a22fa7-6d5f-4f3f-aec7-9ddc52d793d5",
   "metadata": {
    "tags": []
   },
   "source": [
    "#### 4.What proportion of total crashes do the top 3 causes account for (excluding 'Unspecified')"
   ]
  },
  {
   "cell_type": "code",
   "execution_count": 29,
   "id": "148b4941-c4c0-4042-a0a9-ba9e6677c617",
   "metadata": {
    "tags": []
   },
   "outputs": [
    {
     "name": "stdout",
     "output_type": "stream",
     "text": [
      "['Driver Inattention/Distraction' 'Failure to Yield Right-of-Way'\n",
      " 'Following Too Closely']\n",
      "47.4%\n"
     ]
    }
   ],
   "source": [
    "# Count the occurrences of each contributing factor\n",
    "contributing_factor_counts = crash_data_filtered['CONTRIBUTING FACTOR VEHICLE 1'].value_counts()\n",
    "# Get the top 3 causes\n",
    "top_3_causes = contributing_factor_counts.head(3)\n",
    "# Calculate the proportion of total crashes accounted for by the top 3 causes\n",
    "total_crashes = len(crash_data_filtered)\n",
    "proportion_of_top_3_causes = (top_3_causes.sum() / len(crash_data_filtered)) * 100\n",
    "\n",
    "print(top_3_causes.index.values)\n",
    "print(str(round(proportion_of_top_3_causes, 1)) + '%')"
   ]
  },
  {
   "cell_type": "markdown",
   "id": "87375792-f220-4020-a946-608e683f0f0c",
   "metadata": {
    "tags": []
   },
   "source": [
    "#### 5.Analyzing fatalities"
   ]
  },
  {
   "cell_type": "markdown",
   "id": "36df1d88-3dbd-4558-8e1c-c19490050da9",
   "metadata": {},
   "source": [
    "##### What is the cumulative count of accidents involving at least one fatality when considering the complete data since 2012 (accounting for any missing values if applicable)."
   ]
  },
  {
   "cell_type": "code",
   "execution_count": 10,
   "id": "83737ce8-8631-4e76-831b-27f5347432b8",
   "metadata": {},
   "outputs": [
    {
     "data": {
      "text/plain": [
       "2804"
      ]
     },
     "execution_count": 10,
     "metadata": {},
     "output_type": "execute_result"
    }
   ],
   "source": [
    "# Filter the dataset to include only rows where 'NUMBER OF PERSONS KILLED' is greater than 0\n",
    "fatal_accidents = df[df['NUMBER OF PERSONS KILLED'] > 0]\n",
    "# Calculate the total count of accidents with at least one fatality\n",
    "total_fatal_accidents = len(fatal_accidents)\n",
    "total_fatal_accidents"
   ]
  },
  {
   "cell_type": "markdown",
   "id": "ca544a24-4897-49de-af84-47ba76395ccf",
   "metadata": {
    "tags": []
   },
   "source": [
    "#### 6.Fatal accidents"
   ]
  },
  {
   "cell_type": "markdown",
   "id": "caba3ff4-40f4-4a55-915c-0eb448675394",
   "metadata": {},
   "source": [
    "##### On average, for every 1000 accidents, how many have resulted in at least one person dead?"
   ]
  },
  {
   "cell_type": "code",
   "execution_count": 15,
   "id": "bbf00612-d655-441e-b4bc-459bb77a439b",
   "metadata": {
    "tags": []
   },
   "outputs": [
    {
     "data": {
      "text/plain": [
       "1.3893258747079764"
      ]
     },
     "execution_count": 15,
     "metadata": {},
     "output_type": "execute_result"
    }
   ],
   "source": [
    "# Calculate the total number of accidents in the dataset\n",
    "total_accidents = len(df)\n",
    "# Calculate the average number of fatal accidents per 1000 accidents\n",
    "average_fatalities_per_1000 = (total_fatal_accidents / total_accidents) * 1000\n",
    "average_fatalities_per_1000"
   ]
  },
  {
   "cell_type": "markdown",
   "id": "6df46d78-2c8b-458a-bdc2-3ec23b063f7b",
   "metadata": {},
   "source": [
    "#### 7.The proportion of accidents in the data do not have a Borough code"
   ]
  },
  {
   "cell_type": "code",
   "execution_count": 16,
   "id": "bcb38c41-58c2-4dc4-b0c8-532489758b41",
   "metadata": {
    "tags": []
   },
   "outputs": [
    {
     "name": "stdout",
     "output_type": "stream",
     "text": [
      "31.1%\n"
     ]
    }
   ],
   "source": [
    "# Count the number of rows where 'BOROUGH' is missing (NaN)\n",
    "missing_borough_count = df['BOROUGH'].isna().sum()\n",
    "# Calculate the proportion of accidents without a Borough code\n",
    "proportion_missing_borough = (missing_borough_count / total_accidents) * 100\n",
    "print(str(round(proportion_missing_borough, 1)) + '%')"
   ]
  },
  {
   "cell_type": "markdown",
   "id": "cea6ec14-f1e8-43dc-b26c-f641f675b8d5",
   "metadata": {},
   "source": [
    "#### 8.Which combination of vehicles have the most number of accidents"
   ]
  },
  {
   "cell_type": "code",
   "execution_count": 17,
   "id": "d1ba8c87-c520-4a8f-b012-960b44fe64fe",
   "metadata": {
    "tags": []
   },
   "outputs": [
    {
     "name": "stdout",
     "output_type": "stream",
     "text": [
      "('Sedan', 'Sedan')\n",
      "197944\n"
     ]
    }
   ],
   "source": [
    "# Create a new DataFrame with only the relevant columns\n",
    "vehicle_combinations = df[['VEHICLE TYPE CODE 1', 'VEHICLE TYPE CODE 2']]\n",
    "# Count the occurrences of each combination of vehicle types\n",
    "vehicle_combination_counts = vehicle_combinations.value_counts()\n",
    "# Get the combination with the highest count\n",
    "most_common_combination = vehicle_combination_counts.idxmax()\n",
    "most_common_count = vehicle_combination_counts.max()\n",
    "\n",
    "print(most_common_combination)\n",
    "print(most_common_count)"
   ]
  }
 ],
 "metadata": {
  "kernelspec": {
   "display_name": "Python [conda env:mggy8413]",
   "language": "python",
   "name": "conda-env-mggy8413-py"
  },
  "language_info": {
   "codemirror_mode": {
    "name": "ipython",
    "version": 3
   },
   "file_extension": ".py",
   "mimetype": "text/x-python",
   "name": "python",
   "nbconvert_exporter": "python",
   "pygments_lexer": "ipython3",
   "version": "3.10.12"
  }
 },
 "nbformat": 4,
 "nbformat_minor": 5
}
